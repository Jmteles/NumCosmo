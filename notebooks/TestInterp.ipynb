{
 "cells": [
  {
   "cell_type": "markdown",
   "metadata": {},
   "source": [
    "---\n",
    "**License**\n",
    "\n",
    " TestInterp\n",
    "\n",
    " Mon Jan 25 20:56:00 2020\\\n",
    " Copyright  2021\\\n",
    " Eduardo ...\\\n",
    " Sandro Dias Pinto Vitenti <vitenti@uel.br>\n",
    "\n",
    "---\n",
    "---\n",
    "\n",
    " TestInterp\\\n",
    " Copyright (C) 2021 Eduardo ...\\\n",
    " Copyright (C) 2021 Sandro Dias Pinto Vitenti <vitenti@uel.br>\n",
    "\n",
    "\n",
    " numcosmo is free software: you can redistribute it and/or modify it\n",
    " under the terms of the GNU General Public License as published by the\n",
    " Free Software Foundation, either version 3 of the License, or\n",
    " (at your option) any later version.\n",
    "\n",
    " numcosmo is distributed in the hope that it will be useful, but\n",
    " WITHOUT ANY WARRANTY; without even the implied warranty of\n",
    " MERCHANTABILITY or FITNESS FOR A PARTICULAR PURPOSE.\n",
    " See the GNU General Public License for more details.\n",
    "\n",
    " You should have received a copy of the GNU General Public License along\n",
    " with this program.  If not, see <http://www.gnu.org/licenses/>.\n",
    " \n",
    "---"
   ]
  },
  {
   "cell_type": "code",
   "execution_count": 1,
   "metadata": {},
   "outputs": [],
   "source": [
    "try:\n",
    "  import gi\n",
    "  gi.require_version('NumCosmo', '1.0')\n",
    "  gi.require_version('NumCosmoMath', '1.0')\n",
    "except:\n",
    "  pass\n",
    "\n",
    "import sys\n",
    "import math\n",
    "import matplotlib as mpl\n",
    "import matplotlib.pyplot as plt\n",
    "import numpy as np\n",
    "import scipy.stats\n",
    "\n",
    "\n",
    "from gi.repository import NumCosmo as Nc\n",
    "from gi.repository import NumCosmoMath as Ncm\n",
    "%matplotlib inline"
   ]
  },
  {
   "cell_type": "code",
   "execution_count": 2,
   "metadata": {},
   "outputs": [],
   "source": [
    "__name__ = \"NcContext\"\n",
    "\n",
    "Ncm.cfg_init ()\n",
    "Ncm.cfg_set_log_handler (lambda msg: sys.stdout.write (msg) and sys.stdout.flush ())"
   ]
  },
  {
   "cell_type": "code",
   "execution_count": 3,
   "metadata": {},
   "outputs": [
    {
     "name": "stdout",
     "output_type": "stream",
     "text": [
      "[ 0.43552112  0.1216263   0.24682055  0.17714792  0.32958429  0.53740971\n",
      "  0.96421669  0.46012116  0.46138395  0.70755715  0.28783639  0.67849817\n",
      "  0.47271837  0.88935956  0.40074473  0.65481791  0.18758079  0.69959009\n",
      "  0.10242707  0.42278872]\n"
     ]
    }
   ],
   "source": [
    "dim = 20\n",
    "p = np.random.random_sample((dim,))\n",
    "print (p)"
   ]
  },
  {
   "cell_type": "code",
   "execution_count": 4,
   "metadata": {},
   "outputs": [
    {
     "name": "stdout",
     "output_type": "stream",
     "text": [
      "#----------------------------------------------------------------------------------\n",
      "# Model[00000]:\n",
      "#   - NcmModelMVND : MVND\n",
      "#----------------------------------------------------------------------------------\n",
      "# Model parameters\n",
      "#   -  mu_0[00]:  0.435521123843542   [FREE]\n",
      "#   -  mu_1[01]:  0.121626296841453   [FREE]\n",
      "#   -  mu_2[02]:  0.246820549649832   [FREE]\n",
      "#   -  mu_3[03]:  0.177147918854317   [FREE]\n",
      "#   -  mu_4[04]:  0.329584291020229   [FREE]\n",
      "#   -  mu_5[05]:  0.537409709307441   [FREE]\n",
      "#   -  mu_6[06]:  0.964216693297617   [FREE]\n",
      "#   -  mu_7[07]:  0.460121155119321   [FREE]\n",
      "#   -  mu_8[08]:  0.461383952796846   [FREE]\n",
      "#   -  mu_9[09]:  0.707557150438806   [FREE]\n",
      "#   - mu_10[10]:  0.287836393049871   [FREE]\n",
      "#   - mu_11[11]:  0.678498167964171   [FREE]\n",
      "#   - mu_12[12]:  0.472718373588213   [FREE]\n",
      "#   - mu_13[13]:  0.889359563649455   [FREE]\n",
      "#   - mu_14[14]:  0.400744732609671   [FREE]\n",
      "#   - mu_15[15]:  0.654817914883412   [FREE]\n",
      "#   - mu_16[16]:  0.187580794965636   [FREE]\n",
      "#   - mu_17[17]:  0.699590089879831   [FREE]\n",
      "#   - mu_18[18]:  0.102427074424555   [FREE]\n",
      "#   - mu_19[19]:  0.422788717002755   [FREE]\n"
     ]
    }
   ],
   "source": [
    "rng = Ncm.RNG.new (None)\n",
    "\n",
    "fmodel = Ncm.ModelMVND.new (dim)\n",
    "fdata = Ncm.DataGaussCovMVND.new_full (dim, 0.1, 0.4, 10.0, -1.0, 1.0, rng)\n",
    "\n",
    "fdata.props.use_norma = True\n",
    "\n",
    "mset = Ncm.MSet.new_array ([fmodel])\n",
    "mset.param_set_all_ftype (Ncm.ParamType.FREE)\n",
    "mset.prepare_fparam_map ()\n",
    "\n",
    "mset.fparams_set_array (p)\n",
    "mset.pretty_log ()"
   ]
  },
  {
   "cell_type": "code",
   "execution_count": 5,
   "metadata": {},
   "outputs": [
    {
     "data": {
      "text/plain": [
       "-34.47593073502856"
      ]
     },
     "execution_count": 5,
     "metadata": {},
     "output_type": "execute_result"
    }
   ],
   "source": [
    "y_a = []\n",
    "x_a = []\n",
    "xn_a = []\n",
    "\n",
    "\n",
    "\n",
    "\n",
    "interp = Ncm.StatsDistNdKDEStudentt.new (len (p), False, 200)\n",
    "\n",
    "for a in range (5000):\n",
    "    v, N = fdata.gen (mset, None, None, rng)\n",
    "    interp.add_obs (v)\n",
    "    y_a.append (fdata.m2lnL_val (mset))\n",
    "    x_a.append (v.dup_array ())\n",
    "\n",
    "for a in range (5000):\n",
    "    v, N = fdata.gen (mset, None, None, rng)\n",
    "    xn_a.append (v.dup_array ())\n",
    "\n",
    "y_a = np.array (y_a)\n",
    "x_a = np.array (x_a)\n",
    "xn_a = np.array (xn_a)\n",
    "\n",
    "fdata.y.set_array (p)\n",
    "\n",
    "fdata.m2lnL_val (mset)"
   ]
  },
  {
   "cell_type": "code",
   "execution_count": 6,
   "metadata": {},
   "outputs": [],
   "source": [
    "#interp.prepare ()\n",
    "interp.prepare_interp (Ncm.Vector.new_array (y_a))\n"
   ]
  },
  {
   "cell_type": "code",
   "execution_count": null,
   "metadata": {},
   "outputs": [],
   "source": [
    "def NormalizeData(data,sample):\n",
    "    return (data - np.min(sample)) / (np.max(sample) - np.min(sample))\n",
    "        \n",
    "yi_a = []\n",
    "ya_a = []\n",
    "yi_b = []\n",
    "\n",
    "for x in x_a:\n",
    "    mset.fparams_set_array (x)\n",
    "    fdata.prepare (mset)\n",
    "    yi_a.append (interp.eval_m2lnp (Ncm.Vector.new_array (x)))\n",
    "    ya_a.append (fdata.m2lnL_val (mset))\n",
    "\n",
    "yi_a = np.array (yi_a)\n",
    "ya_a = np.array (ya_a)\n",
    "\n",
    "diff = yi_a - ya_a\n",
    "print(diff)\n",
    "\n",
    "\n",
    "norm, cont = scipy.stats.mode (diff)\n",
    "plt.figure (figsize=(14, 7))\n",
    "\n",
    "bla = plt.hist(np.abs(diff), bins = 60)\n"
   ]
  },
  {
   "cell_type": "code",
   "execution_count": null,
   "metadata": {
    "scrolled": true
   },
   "outputs": [],
   "source": [
    "yi_a = []\n",
    "ya_a = []\n",
    "\n",
    "for x in xn_a:\n",
    "    mset.fparams_set_array (x)\n",
    "    fdata.prepare (mset)\n",
    "    yi_a.append (interp.eval_m2lnp (Ncm.Vector.new_array (x)))\n",
    "    ya_a.append (fdata.m2lnL_val (mset))\n",
    "\n",
    "yi_a = np.array (yi_a) \n",
    "ya_a = np.array (ya_a)\n",
    "\n",
    "diff = yi_a -  ya_a\n",
    "reldiff = np.abs (diff / ya_a)\n",
    "for a in range(0,10):\n",
    "    print (reldiff[a])\n",
    "\n",
    "#print (ya_a)\n",
    "#print (yi_a)\n",
    "print(np.max(ya_a), np.max(diff), np.max(yi_a), np.max(reldiff))\n",
    "print (np.sum ((reldiff < 0.5)/len(reldiff))*100.0)\n"
   ]
  },
  {
   "cell_type": "code",
   "execution_count": null,
   "metadata": {},
   "outputs": [],
   "source": [
    "plt.figure (figsize=(14, 7))\n",
    "bla = plt.hist((reldiff), bins = np.linspace (-2,8,60))\n"
   ]
  },
  {
   "cell_type": "code",
   "execution_count": null,
   "metadata": {},
   "outputs": [],
   "source": []
  },
  {
   "cell_type": "code",
   "execution_count": null,
   "metadata": {},
   "outputs": [],
   "source": []
  }
 ],
 "metadata": {
  "kernelspec": {
   "display_name": "Python 3",
   "language": "python",
   "name": "python3"
  },
  "language_info": {
   "codemirror_mode": {
    "name": "ipython",
    "version": 3
   },
   "file_extension": ".py",
   "mimetype": "text/x-python",
   "name": "python",
   "nbconvert_exporter": "python",
   "pygments_lexer": "ipython3",
   "version": "3.6.9"
  }
 },
 "nbformat": 4,
 "nbformat_minor": 2
}
