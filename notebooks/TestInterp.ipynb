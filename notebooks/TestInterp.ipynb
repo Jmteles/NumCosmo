{
 "cells": [
  {
   "cell_type": "markdown",
   "metadata": {},
   "source": [
    "---\n",
    "**License**\n",
    "\n",
    " TestInterp\n",
    "\n",
    " Mon Jan 25 20:56:00 2020\\\n",
    " Copyright  2021\\\n",
    " Eduardo ...\\\n",
    " Sandro Dias Pinto Vitenti <vitenti@uel.br>\n",
    "\n",
    "---\n",
    "---\n",
    "\n",
    " TestInterp\\\n",
    " Copyright (C) 2021 Eduardo ...\\\n",
    " Copyright (C) 2021 Sandro Dias Pinto Vitenti <vitenti@uel.br>\n",
    "\n",
    "\n",
    " numcosmo is free software: you can redistribute it and/or modify it\n",
    " under the terms of the GNU General Public License as published by the\n",
    " Free Software Foundation, either version 3 of the License, or\n",
    " (at your option) any later version.\n",
    "\n",
    " numcosmo is distributed in the hope that it will be useful, but\n",
    " WITHOUT ANY WARRANTY; without even the implied warranty of\n",
    " MERCHANTABILITY or FITNESS FOR A PARTICULAR PURPOSE.\n",
    " See the GNU General Public License for more details.\n",
    "\n",
    " You should have received a copy of the GNU General Public License along\n",
    " with this program.  If not, see <http://www.gnu.org/licenses/>.\n",
    " \n",
    "---"
   ]
  },
  {
   "cell_type": "code",
   "execution_count": 1,
   "metadata": {},
   "outputs": [],
   "source": [
    "try:\n",
    "  import gi\n",
    "  gi.require_version('NumCosmo', '1.0')\n",
    "  gi.require_version('NumCosmoMath', '1.0')\n",
    "except:\n",
    "  pass\n",
    "\n",
    "import sys\n",
    "import math\n",
    "import matplotlib as mpl\n",
    "import matplotlib.pyplot as plt\n",
    "import numpy as np\n",
    "import scipy.stats\n",
    "from scipy.optimize import minimize\n",
    "\n",
    "from gi.repository import NumCosmo as Nc\n",
    "from gi.repository import NumCosmoMath as Ncm\n",
    "%matplotlib inline"
   ]
  },
  {
   "cell_type": "code",
   "execution_count": 2,
   "metadata": {},
   "outputs": [],
   "source": [
    "__name__ = \"NcContext\"\n",
    "\n",
    "Ncm.cfg_init () #Initiates internal variable of NumCosmo. Must be called before any other function.\n",
    "Ncm.cfg_set_log_handler (lambda msg: sys.stdout.write (msg) and sys.stdout.flush ()) #Sets log information"
   ]
  },
  {
   "cell_type": "code",
   "execution_count": 3,
   "metadata": {},
   "outputs": [
    {
     "name": "stdout",
     "output_type": "stream",
     "text": [
      "[ 0.98314869  0.93295279]\n"
     ]
    }
   ],
   "source": [
    "dim = 2 #dimension of the problem\n",
    "p = np.random.random_sample((dim,)) #From random package, generates a random sample of dimension 2\n",
    "print (p)"
   ]
  },
  {
   "cell_type": "code",
   "execution_count": 4,
   "metadata": {},
   "outputs": [
    {
     "name": "stdout",
     "output_type": "stream",
     "text": [
      "#----------------------------------------------------------------------------------\n",
      "# Model[00000]:\n",
      "#   - NcmModelMVND : MVND\n",
      "#----------------------------------------------------------------------------------\n",
      "# Model parameters\n",
      "#   - mu_0[00]:  0.983148690561275   [FREE]\n",
      "#   - mu_1[01]:  0.932952793547508   [FREE]\n"
     ]
    }
   ],
   "source": [
    "rng = Ncm.RNG.new (None) #Creates a RNG object, a random num generator. The none parameter menas that the algorithm has no name\n",
    "\n",
    "fmodel = Ncm.ModelMVND.new (dim)#Creates a new MVND mean model\n",
    "fdata = Ncm.DataGaussCovMVND.new_full (dim, 0.1, 0.4, 10.0, -1.0, 1.0, rng)# Creates a new object with Gaussian distribution generated with rng and with a correlation matrix using the parameters of the initialization\n",
    "\n",
    "fdata.props.use_norma = True #normalization\n",
    "\n",
    "mset = Ncm.MSet.new_array ([fmodel]) #generate a cosmological model\n",
    "mset.param_set_all_ftype (Ncm.ParamType.FREE) # set the parameters free\n",
    "mset.prepare_fparam_map ()\n",
    "\n",
    "mset.fparams_set_array (p)\n",
    "mset.pretty_log ()"
   ]
  },
  {
   "cell_type": "code",
   "execution_count": 5,
   "metadata": {},
   "outputs": [
    {
     "data": {
      "text/plain": [
       "-0.48227804757909415"
      ]
     },
     "execution_count": 5,
     "metadata": {},
     "output_type": "execute_result"
    }
   ],
   "source": [
    "y_a = []\n",
    "x_a = []\n",
    "xn_a = []\n",
    "\n",
    "interp = Ncm.StatsDistNdKDEStudentt.new (len (p), Ncm.StatsDistNdCV.NONE, 1.0) #New studentt object, with no cross-validation method and \\nu=1\n",
    "#interp = Ncm.StatsDistNdKDEGauss.new (len (p), Ncm.StatsDistNdCV.NONE)\n",
    "nps = 200  # Number of points to be interpolated\n",
    "\n",
    "for a in range (nps):#Loop for the number of points. \n",
    "    v, N = fdata.gen (mset, None, None, rng)#We generate the points for the data we want to compare\n",
    "    interp.add_obs (v)# Sets the weight to 1 in our interpolation\n",
    "    y_a.append (fdata.m2lnL_val (mset)) #Calculates the value of $-2\\ln(L)$, where $L$ represents the likelihood of the data given the models in mset. The result is stored in m2lnL.<\n",
    "    x_a.append (v.dup_array ())#add the values of V to an array and then append to x_a\n",
    "#This loop just generete the random points and calculates values for our data distribution,  which in this case is a gaussian model.\n",
    "\n",
    "for a in range (nps):\n",
    "    v, N = fdata.gen (mset, None, None, rng)\n",
    "    xn_a.append (v.dup_array ())\n",
    "# This loop just generates the random points and stores in a list.\n",
    "y_a = np.array (y_a)\n",
    "x_a = np.array (x_a)\n",
    "xn_a = np.array (xn_a)\n",
    "#Transforms our lists into matrices. So, y_a has the gaussian model for the random points that are in x_a. xn_a has another random points with no weight \n",
    "fdata.y.set_array (p) #y is a variable form the gauss_cov class. Inside, we set and array of dimension p\n",
    "\n",
    "fdata.m2lnL_val (mset)"
   ]
  },
  {
   "cell_type": "code",
   "execution_count": 6,
   "metadata": {},
   "outputs": [],
   "source": [
    "   #All the methods called here are from the stats_dist_nd, and not the gaussian or studentt\n",
    "def calib (val):\n",
    "    interp.set_over_smooth (val) #set the oversmooth property \n",
    "    interp.prepare_interp (Ncm.Vector.new_array (y_a))#Prepare the interpolation using the values from the model we want to compare, in y_a\n",
    "    \n",
    "    yi_a = []\n",
    "    ya_a = []\n",
    "    yi_b = []\n",
    "\n",
    "    for x in xn_a:\n",
    "        mset.fparams_set_array (x)\n",
    "        fdata.prepare (mset)\n",
    "        yi_a.append (interp.eval_m2lnp (Ncm.Vector.new_array (x)))#Calculates the value with the interpolated function for the points in xn_a and stores in yi_a\n",
    "        ya_a.append (fdata.m2lnL_val (mset))#calculates the value for the model for the same points xn_a, since mset was set with x in the first line of the loop\n",
    "\n",
    "    yi_a = np.array (yi_a)#generates an array from the list with the results\n",
    "    ya_a = np.array (ya_a)\n",
    "        \n",
    "    m = -np.average (yi_a - ya_a, weights = 1.0 / ya_a**2)#method from the numpy package. First argument is an array, which is the difference between the data and interpolated function\n",
    "    #second is the weight for each point, which we set as 1/ya_a^2. This is a normalization of our interpolated points. We use the value to the second power so there is no negative values.\n",
    "\n",
    "    diff = (yi_a + m) / ya_a - 1.0 # the difference between the points\n",
    "    \n",
    "    return np.sum(diff**2)/len(diff) #an everage of the squared difference\n",
    "\n",
    "calib_os = minimize (calib, 2.17, method='Nelder-Mead', tol=1.0e-11, options = {'maxiter': 1e8, 'xatol': 1.0e-7, 'fatol': 1.0e-7})\n",
    "#Minimize comes from the scipy.optimize package. First, we want to minimize the difference between or functions by changing the smooth value. The dif is returned by calib.\n",
    "#2.17 is a initial guess\n",
    "#method is the type of solver. Nelder mead is the chosen one\n",
    "#tol is the tolerance for termination\n",
    "#options:maxiter is the max number of iterations. Xatol is the acceptable error for xopt between interactions. Fatol is the absolute error accepted betweenn interations"
   ]
  },
  {
   "cell_type": "code",
   "execution_count": 7,
   "metadata": {},
   "outputs": [
    {
     "name": "stdout",
     "output_type": "stream",
     "text": [
      " final_simplex: (array([[ 2.20112855],\n",
      "       [ 2.2011286 ]]), array([ 0.01114074,  0.01114074]))\n",
      "           fun: 0.011140742802534593\n",
      "       message: 'Optimization terminated successfully.'\n",
      "          nfev: 56\n",
      "           nit: 28\n",
      "        status: 0\n",
      "       success: True\n",
      "             x: array([ 2.20112855])\n"
     ]
    }
   ],
   "source": [
    "print (calib_os)"
   ]
  },
  {
   "cell_type": "code",
   "execution_count": 8,
   "metadata": {},
   "outputs": [
    {
     "data": {
      "image/png": "[encoded data removed]",
      "text/plain": [
       "<matplotlib.figure.Figure at 0x7f3936a30d68>"
      ]
     },
     "metadata": {
      "needs_background": "light"
     },
     "output_type": "display_data"
    }
   ],
   "source": [
    "l_a = []\n",
    "f_a = []\n",
    "g_a = []\n",
    "h_a = []\n",
    "\n",
    "for l in np.geomspace (1.0e-1, 1.0e2, 200): #Return numbers spaced evenly on a log scale (a geometric progression).Starts at 0.1, stops in 100, and there are 200 numbers\n",
    "    interp.set_over_smooth (l)\n",
    "    interp.prepare_interp (Ncm.Vector.new_array (y_a))\n",
    "    yi_a = [] \n",
    "    ya_a = []\n",
    "    yi_b = []\n",
    "\n",
    "    for x in xn_a:\n",
    "        mset.fparams_set_array (x)\n",
    "        fdata.prepare (mset)\n",
    "        yi_a.append (interp.eval_m2lnp (Ncm.Vector.new_array (x)))\n",
    "        ya_a.append (fdata.m2lnL_val (mset))\n",
    "\n",
    "    yi_a = np.array (yi_a)\n",
    "    ya_a = np.array (ya_a)\n",
    "\n",
    "    m = -np.average (yi_a - ya_a, weights = 1.0 / ya_a**2)\n",
    "    diff = (yi_a + m) / ya_a - 1.0 #untill here is the same as calib function, but we are using different values for the smooth property\n",
    "    diff2 = (yi_a + m) - ya_a #dif multiplied by the data\n",
    "    \n",
    "    l_a.append (l)\n",
    "    f_a.append (np.sqrt (np.sum (diff2**2)/len(diff2)))\n",
    "    g_a.append (np.sqrt (np.sum (diff **2)/len(diff ))) #we create lists for each result for each smoothness. l = value of smooth, f = sqrt of diff, and g = sqrt of diff2 \n",
    "\n",
    "\n",
    "plt.figure (figsize=(14, 7))\n",
    "#plt.plot (l_a, f_a, 'b-', label='ya-yi')\n",
    "plt.plot (l_a, g_a, 'r-', label='ya/yi-1') # we are plotting y=g_a versus x=l_a. According to the graph, the best smoothness is between 0 and 10(log l = 1)\n",
    "plt.legend(loc='best')\n",
    "\n",
    "plt.xscale ('log')\n",
    "plt.yscale ('log')\n"
   ]
  },
  {
   "cell_type": "code",
   "execution_count": 9,
   "metadata": {},
   "outputs": [],
   "source": [
    "#interp.prepare ()\n",
    "interp.set_over_smooth (calib_os['x'][0])# I dont really get how this works. I think this especifies the function calib, saying to minimize for the value x and to start with 0\n",
    "#interp.set_over_smooth (1.0e-10)\n",
    "interp.prepare_interp (Ncm.Vector.new_array (y_a)) #new interpolation for the optimized smoothness by calib_os"
   ]
  },
  {
   "cell_type": "code",
   "execution_count": 10,
   "metadata": {},
   "outputs": [
    {
     "name": "stdout",
     "output_type": "stream",
     "text": [
      "m:  0.336027092433\n",
      "1.1e-01\n",
      "4.8e-02\n",
      "0.075\n",
      "[ 0.3623467  -0.80684507  0.36833979  0.35262007  0.35619659  0.42932927\n",
      "  0.34863761  0.36588199  0.36437836  0.34968823  0.36967414  0.35130844\n",
      "  0.3536521   0.36664095  0.4302436   0.3644695   0.43405533  0.39193405\n",
      "  0.35234852  0.3861634   0.35022586  0.0215029   0.36258454  0.35773197\n",
      "  0.0582608  -0.11614126  0.38499475  0.34685773  0.24364236 -1.89432605\n",
      "  0.45010889 -0.06237511  0.39828727 -1.3177563   0.4236922   0.43475647\n",
      "  0.35915467  0.41075124  0.41385154  0.3582825   0.39434361  0.36598139\n",
      "  0.36243221  0.38289972  0.38769025  0.41524118  0.41836202  0.35682521\n",
      "  0.35483696  0.36690135  0.49384339 -1.10114107  0.39686051  0.35400949\n",
      "  0.3696418   0.42305294  0.38540647  0.36939975  0.39071767  0.39309937\n",
      "  0.39195282  0.35791355  0.43092814  0.47948511 -0.11977009  0.39448224\n",
      "  0.39937566  0.3680782  -0.17033462  0.40010555  0.37066251 -1.02920356\n",
      "  0.10975796  0.42980799  0.35897757 -0.57572965  0.39543679  0.36340879\n",
      "  0.35055689  0.1322655   0.4051234   0.42694464  0.3622278   0.39837988\n",
      "  0.34566003  0.37425322  0.37063002  0.36975711  0.39947595  0.36869123\n",
      "  0.35336718 -0.6697795  -1.09165159  0.35300679  0.3913817   0.38986075\n",
      "  0.34448806  0.35919669  0.40928494  0.40057907  0.42529591  0.37452245\n",
      " -1.19089733 -0.62302115  0.3491039   0.36282683  0.4230427   0.34843973\n",
      "  0.3432812   0.36713466  0.36409079  0.36159063 -0.02868024  0.41927025\n",
      "  0.48506266  0.29404413  0.42137932 -0.0383086   0.25700689  0.36095992\n",
      "  0.3678115   0.36768859  0.34709104  0.35062214  0.44543552  0.3865873\n",
      "  0.35976312  0.27862372  0.41448819 -5.21119607  0.08420617  0.43207688\n",
      "  0.38815327  0.35996788  0.14015581 -0.43928883  0.3628295   0.40962266\n",
      "  0.3930782   0.37044129  0.34849027 -0.06102061  0.35307885  0.27105056\n",
      "  0.38997624  0.41117585  0.3506478   0.35499016  0.36661604  0.46607937\n",
      "  0.38455868 -0.46216616  0.37026658  0.36907501  0.38713287  0.51127507\n",
      " -0.06013477  0.37349688  0.37237412  0.36381587  0.38794106  0.24182397\n",
      " -2.99480927  0.41504397  0.4022235   0.3533389  -0.65123582  0.35291488\n",
      "  0.13677134  0.23037257  0.35982866  0.38752538  0.34366933  0.27283061\n",
      "  0.37079933  0.38667264  0.3538813   0.38963581  0.35334698 -0.8291118\n",
      "  0.35697707  0.39526148  0.35108714  0.36633581  0.38673527  0.39163857\n",
      "  0.36068352  0.39550227  0.36856719  0.36843513  0.35766207  0.36148539\n",
      "  0.40473549  0.47791635  0.45749887  0.40378062  0.30877312  0.42665192\n",
      "  0.36299218  0.3688129 ]\n"
     ]
    },
    {
     "data": {
      "image/png": "[encoded data removed]",
      "text/plain": [
       "<matplotlib.figure.Figure at 0x7f39345dcf98>"
      ]
     },
     "metadata": {
      "needs_background": "light"
     },
     "output_type": "display_data"
    }
   ],
   "source": [
    "       \n",
    "yi_a = []\n",
    "ya_a = []\n",
    "yi_b = []\n",
    "\n",
    "for x in xn_a:\n",
    "    mset.fparams_set_array (x)\n",
    "    fdata.prepare (mset)\n",
    "    yi_a.append (interp.eval_m2lnp (Ncm.Vector.new_array (x)))\n",
    "    ya_a.append (fdata.m2lnL_val (mset))\n",
    "\n",
    "yi_a = np.array (yi_a)\n",
    "ya_a = np.array (ya_a)\n",
    "\n",
    "m = -np.average (yi_a - ya_a, weights = 1.0 / ya_a**2)\n",
    "print (\"m: \", m)\n",
    "diff = (yi_a + m) / ya_a - 1.0\n",
    "diff2 = (yi_a + m) - ya_a\n",
    "\n",
    "norm, cont = scipy.stats.mode (diff) #returns the modal and the number of times\n",
    "plt.figure (figsize=(14, 7))\n",
    "\n",
    "bla = plt.hist(np.log10 (np.abs(diff )), bins = 60, label='ya/yi-1')\n",
    "#bla = plt.hist(np.log10 (np.abs(diff2)), bins = 60, label='ya-yi')\n",
    "#bla = plt.hist(ya_a,     bins = 60, label='ya')\n",
    "#bla = plt.hist(yi_a + m, bins = 60, label='yi')\n",
    "#plt.yscale ('log')\n",
    "plt.grid ()\n",
    "plt.legend(loc='best')\n",
    "\n",
    "mean_err = 10**(np.mean (np.log10 (np.abs (diff)))) # mean error\n",
    "\n",
    "print (\"%.1e\" % (np.sqrt (np.sum(diff**2)/len(diff))))\n",
    "print (\"%.1e\" % (mean_err))\n",
    "print (sum(np.abs ((yi_a + 0.68486113) / ya_a - 1.0) < mean_err)/len(ya_a))\n",
    "\n",
    "print (yi_a-ya_a+0.68486113)\n",
    "\n",
    "#print (sum (np.abs((yi_a+m)/ya_a-1.0) < 1.0e-7)/len(ya_a))\n"
   ]
  },
  {
   "cell_type": "code",
   "execution_count": 11,
   "metadata": {},
   "outputs": [
    {
     "data": {
      "image/png": "[encoded data removed]",
      "text/plain": [
       "<matplotlib.figure.Figure at 0x7f39341812e8>"
      ]
     },
     "metadata": {
      "needs_background": "light"
     },
     "output_type": "display_data"
    }
   ],
   "source": [
    "l0_a = []\n",
    "f0_a = []\n",
    "g0_a = []\n",
    "#I dont see the difference between here and the other part where we did the same calculation. Why are the values different? It's because you used set_oversmooth(calib_os)? But here we always call oversmooth again. I dont get it.\n",
    "for l in np.geomspace (1.0e-1, 1.0e2, 200):\n",
    "    interp.set_over_smooth (l)\n",
    "    interp.prepare_interp (Ncm.Vector.new_array (y_a))\n",
    "    yi_a = []\n",
    "    ya_a = []\n",
    "    yi_b = []\n",
    "\n",
    "    for x in x_a:\n",
    "        mset.fparams_set_array (x)\n",
    "        fdata.prepare (mset)\n",
    "        yi_a.append (interp.eval_m2lnp (Ncm.Vector.new_array (x)))\n",
    "        ya_a.append (fdata.m2lnL_val (mset))\n",
    "\n",
    "    yi_a = np.array (yi_a)\n",
    "    ya_a = np.array (ya_a)\n",
    "\n",
    "    m = -np.average (yi_a - ya_a, weights = 1.0 / ya_a**2)\n",
    "    diff = (yi_a + m) / ya_a - 1.0\n",
    "    diff2 = (yi_a + m) - ya_a\n",
    "    \n",
    "    l0_a.append (l)\n",
    "    f0_a.append (np.sqrt (np.sum (diff2**2)/len(diff2)))\n",
    "    g0_a.append (np.sqrt (np.sum (diff **2)/len(diff )))\n",
    "\n",
    "\n",
    "plt.figure (figsize=(14, 7))\n",
    "plt.plot (l_a, g_a, 'b-', label='ya/yi-1')\n",
    "plt.plot (l0_a, g0_a, 'r-', label='s0 ya/yi-1')\n",
    "plt.legend(loc='best')\n",
    "plt.grid()\n",
    "\n",
    "plt.xscale ('log')\n",
    "plt.yscale ('log')\n"
   ]
  },
  {
   "cell_type": "code",
   "execution_count": null,
   "metadata": {},
   "outputs": [],
   "source": []
  }
 ],
 "metadata": {
  "kernelspec": {
   "display_name": "Python 3",
   "language": "python",
   "name": "python3"
  },
  "language_info": {
   "codemirror_mode": {
    "name": "ipython",
    "version": 3
   },
   "file_extension": ".py",
   "mimetype": "text/x-python",
   "name": "python",
   "nbconvert_exporter": "python",
   "pygments_lexer": "ipython3",
   "version": "3.6.9"
  }
 },
 "nbformat": 4,
 "nbformat_minor": 2
}
