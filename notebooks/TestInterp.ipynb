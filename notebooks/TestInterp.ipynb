{
 "cells": [
  {
   "cell_type": "markdown",
   "metadata": {},
   "source": [
    "---\n",
    "**License**\n",
    "\n",
    " TestInterp\n",
    "\n",
    " Mon Jan 25 20:56:00 2020\\\n",
    " Copyright  2021\\\n",
    " Eduardo ...\\\n",
    " Sandro Dias Pinto Vitenti <vitenti@uel.br>\n",
    "\n",
    "---\n",
    "---\n",
    "\n",
    " TestInterp\\\n",
    " Copyright (C) 2021 Eduardo ...\\\n",
    " Copyright (C) 2021 Sandro Dias Pinto Vitenti <vitenti@uel.br>\n",
    "\n",
    "\n",
    " numcosmo is free software: you can redistribute it and/or modify it\n",
    " under the terms of the GNU General Public License as published by the\n",
    " Free Software Foundation, either version 3 of the License, or\n",
    " (at your option) any later version.\n",
    "\n",
    " numcosmo is distributed in the hope that it will be useful, but\n",
    " WITHOUT ANY WARRANTY; without even the implied warranty of\n",
    " MERCHANTABILITY or FITNESS FOR A PARTICULAR PURPOSE.\n",
    " See the GNU General Public License for more details.\n",
    "\n",
    " You should have received a copy of the GNU General Public License along\n",
    " with this program.  If not, see <http://www.gnu.org/licenses/>.\n",
    " \n",
    "---"
   ]
  },
  {
   "cell_type": "code",
   "execution_count": 1,
   "metadata": {},
   "outputs": [],
   "source": [
    "try:\n",
    "  import gi\n",
    "  gi.require_version('NumCosmo', '1.0')\n",
    "  gi.require_version('NumCosmoMath', '1.0')\n",
    "except:\n",
    "  pass\n",
    "\n",
    "import sys\n",
    "import math\n",
    "import matplotlib as mpl\n",
    "import matplotlib.pyplot as plt\n",
    "import numpy as np\n",
    "import scipy.stats\n",
    "\n",
    "\n",
    "from gi.repository import NumCosmo as Nc\n",
    "from gi.repository import NumCosmoMath as Ncm\n",
    "%matplotlib inline"
   ]
  },
  {
   "cell_type": "code",
   "execution_count": 2,
   "metadata": {},
   "outputs": [],
   "source": [
    "__name__ = \"NcContext\"\n",
    "\n",
    "Ncm.cfg_init ()\n",
    "Ncm.cfg_set_log_handler (lambda msg: sys.stdout.write (msg) and sys.stdout.flush ())"
   ]
  },
  {
   "cell_type": "code",
   "execution_count": 3,
   "metadata": {},
   "outputs": [
    {
     "name": "stdout",
     "output_type": "stream",
     "text": [
      "[ 0.71155544  0.76154705  0.17929383  0.42800504  0.93505353  0.44286678\n",
      "  0.09786413  0.97858447  0.16845432  0.71470845  0.56270158  0.37716973\n",
      "  0.63697281  0.46854531  0.28079642  0.56708988  0.34855678  0.99595406\n",
      "  0.93676681  0.05023076]\n"
     ]
    }
   ],
   "source": [
    "dim = 20\n",
    "p = np.random.random_sample((dim,))\n",
    "print (p)"
   ]
  },
  {
   "cell_type": "code",
   "execution_count": 4,
   "metadata": {},
   "outputs": [
    {
     "name": "stdout",
     "output_type": "stream",
     "text": [
      "#----------------------------------------------------------------------------------\n",
      "# Model[00000]:\n",
      "#   - NcmModelMVND : MVND\n",
      "#----------------------------------------------------------------------------------\n",
      "# Model parameters\n",
      "#   -  mu_0[00]:  0.711555442298499   [FREE]\n",
      "#   -  mu_1[01]:  0.761547048277024   [FREE]\n",
      "#   -  mu_2[02]:  0.179293829763376   [FREE]\n",
      "#   -  mu_3[03]:  0.428005044052584   [FREE]\n",
      "#   -  mu_4[04]:  0.935053531328729   [FREE]\n",
      "#   -  mu_5[05]:  0.442866780530303   [FREE]\n",
      "#   -  mu_6[06]:  0.0978641341269827  [FREE]\n",
      "#   -  mu_7[07]:  0.978584468760377   [FREE]\n",
      "#   -  mu_8[08]:  0.168454315535077   [FREE]\n",
      "#   -  mu_9[09]:  0.714708453631569   [FREE]\n",
      "#   - mu_10[10]:  0.56270158337998    [FREE]\n",
      "#   - mu_11[11]:  0.377169733251914   [FREE]\n",
      "#   - mu_12[12]:  0.636972807656849   [FREE]\n",
      "#   - mu_13[13]:  0.468545306981003   [FREE]\n",
      "#   - mu_14[14]:  0.280796423892306   [FREE]\n",
      "#   - mu_15[15]:  0.567089876407512   [FREE]\n",
      "#   - mu_16[16]:  0.348556779181255   [FREE]\n",
      "#   - mu_17[17]:  0.995954064357939   [FREE]\n",
      "#   - mu_18[18]:  0.936766812861418   [FREE]\n",
      "#   - mu_19[19]:  0.0502307615953426  [FREE]\n"
     ]
    }
   ],
   "source": [
    "rng = Ncm.RNG.new (None)\n",
    "\n",
    "fmodel = Ncm.ModelMVND.new (dim)\n",
    "fdata = Ncm.DataGaussCovMVND.new_full (dim, 0.1, 0.4, 10.0, -1.0, 1.0, rng)\n",
    "\n",
    "fdata.props.use_norma = True\n",
    "\n",
    "mset = Ncm.MSet.new_array ([fmodel])\n",
    "mset.param_set_all_ftype (Ncm.ParamType.FREE)\n",
    "mset.prepare_fparam_map ()\n",
    "\n",
    "mset.fparams_set_array (p)\n",
    "mset.pretty_log ()"
   ]
  },
  {
   "cell_type": "code",
   "execution_count": 5,
   "metadata": {},
   "outputs": [
    {
     "data": {
      "text/plain": [
       "-34.47593073502856"
      ]
     },
     "execution_count": 5,
     "metadata": {},
     "output_type": "execute_result"
    }
   ],
   "source": [
    "y_a = []\n",
    "x_a = []\n",
    "xn_a = []\n",
    "\n",
    "\n",
    "\n",
    "\n",
    "interp = Ncm.StatsDistNdKDEStudentt.new (len (p), False, 14)\n",
    "\n",
    "for a in range (5000):\n",
    "    v, N = fdata.gen (mset, None, None, rng)\n",
    "    interp.add_obs (v)\n",
    "    y_a.append (fdata.m2lnL_val (mset))\n",
    "    x_a.append (v.dup_array ())\n",
    "\n",
    "for a in range (5000):\n",
    "    v, N = fdata.gen (mset, None, None, rng)\n",
    "    xn_a.append (v.dup_array ())\n",
    "\n",
    "y_a = np.array (y_a)\n",
    "x_a = np.array (x_a)\n",
    "xn_a = np.array (xn_a)\n",
    "\n",
    "fdata.y.set_array (p)\n",
    "\n",
    "fdata.m2lnL_val (mset)"
   ]
  },
  {
   "cell_type": "code",
   "execution_count": 6,
   "metadata": {},
   "outputs": [],
   "source": [
    "#interp.prepare ()\n",
    "interp.prepare_interp (Ncm.Vector.new_array (y_a))\n"
   ]
  },
  {
   "cell_type": "code",
   "execution_count": 7,
   "metadata": {},
   "outputs": [
    {
     "name": "stdout",
     "output_type": "stream",
     "text": [
      "[-1.99613392 -5.09829689 -2.47367385 ..., -6.4975089  -2.10289915\n",
      " -0.24318494]\n"
     ]
    },
    {
     "data": {
      "image/png": "[encoded data removed]",
      "text/plain": [
       "<matplotlib.figure.Figure at 0x7f0e6c6225f8>"
      ]
     },
     "metadata": {
      "needs_background": "light"
     },
     "output_type": "display_data"
    }
   ],
   "source": [
    "def NormalizeData(data,sample):\n",
    "    return (data - np.min(sample)) / (np.max(sample) - np.min(sample))\n",
    "        \n",
    "yi_a = []\n",
    "ya_a = []\n",
    "yi_b = []\n",
    "\n",
    "for x in x_a:\n",
    "    mset.fparams_set_array (x)\n",
    "    fdata.prepare (mset)\n",
    "    yi_a.append (interp.eval_m2lnp (Ncm.Vector.new_array (x)))\n",
    "    ya_a.append (fdata.m2lnL_val (mset))\n",
    "\n",
    "yi_a = np.array (yi_a)\n",
    "ya_a = np.array (ya_a)\n",
    "\n",
    "diff = yi_a - ya_a \n",
    "print (diff)\n",
    "\n",
    "reldiff=np.abs(diff/ya_a)\n",
    "norm, cont = scipy.stats.mode (diff)\n",
    "diff = diff + norm[0]\n",
    "plt.figure (figsize=(14, 7))\n",
    "\n",
    "bla = plt.hist(np.abs(diff), bins = 60)\n"
   ]
  },
  {
   "cell_type": "code",
   "execution_count": 8,
   "metadata": {
    "scrolled": true
   },
   "outputs": [
    {
     "name": "stdout",
     "output_type": "stream",
     "text": [
      "0.71581495663\n",
      "1.60925063883\n",
      "1.21097272965\n",
      "0.485181588842\n",
      "2.64793324442\n",
      "0.846406519076\n",
      "0.830154681947\n",
      "4.77273069003\n",
      "1.50634606494\n",
      "0.962656025537\n",
      "12.4372786764 24.3046982776 27.6310818658 547.872367723\n",
      "0.8\n"
     ]
    }
   ],
   "source": [
    "yi_a = []\n",
    "ya_a = []\n",
    "\n",
    "for x in xn_a:\n",
    "    mset.fparams_set_array (x)\n",
    "    fdata.prepare (mset)\n",
    "    yi_a.append (interp.eval_m2lnp (Ncm.Vector.new_array (x)))\n",
    "    ya_a.append (fdata.m2lnL_val (mset))\n",
    "\n",
    "yi_a = np.array (yi_a) \n",
    "ya_a = np.array (ya_a)\n",
    "\n",
    "diff = yi_a - ya_a\n",
    "reldiff = np.abs (diff / ya_a)\n",
    "for a in range(0,10):\n",
    "    print (reldiff[a])\n",
    "\n",
    "#print (ya_a)\n",
    "#print (yi_a)\n",
    "print(np.max(ya_a), np.max(diff), np.max(yi_a), np.max(reldiff))\n",
    "print (np.sum ((reldiff < 0.5)/len(reldiff))*100.0)\n"
   ]
  },
  {
   "cell_type": "code",
   "execution_count": 9,
   "metadata": {},
   "outputs": [
    {
     "data": {
      "image/png": "[encoded data removed]",
      "text/plain": [
       "<matplotlib.figure.Figure at 0x7f0e7539a780>"
      ]
     },
     "metadata": {
      "needs_background": "light"
     },
     "output_type": "display_data"
    }
   ],
   "source": [
    "plt.figure (figsize=(14, 7))\n",
    "bla = plt.hist((reldiff), bins = np.linspace (-5,5,60))\n"
   ]
  },
  {
   "cell_type": "code",
   "execution_count": null,
   "metadata": {},
   "outputs": [],
   "source": []
  },
  {
   "cell_type": "code",
   "execution_count": null,
   "metadata": {},
   "outputs": [],
   "source": []
  }
 ],
 "metadata": {
  "kernelspec": {
   "display_name": "Python 3",
   "language": "python",
   "name": "python3"
  },
  "language_info": {
   "codemirror_mode": {
    "name": "ipython",
    "version": 3
   },
   "file_extension": ".py",
   "mimetype": "text/x-python",
   "name": "python",
   "nbconvert_exporter": "python",
   "pygments_lexer": "ipython3",
   "version": "3.6.9"
  }
 },
 "nbformat": 4,
 "nbformat_minor": 2
}
