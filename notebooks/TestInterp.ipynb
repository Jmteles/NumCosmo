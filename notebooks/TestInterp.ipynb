{
 "cells": [
  {
   "cell_type": "markdown",
   "metadata": {},
   "source": [
    "---\n",
    "**License**\n",
    "\n",
    " TestInterp\n",
    "\n",
    " Mon Jan 25 20:56:00 2020\\\n",
    " Copyright  2021\\\n",
    " Eduardo ...\\\n",
    " Sandro Dias Pinto Vitenti <vitenti@uel.br>\n",
    "\n",
    "---\n",
    "---\n",
    "\n",
    " TestInterp\\\n",
    " Copyright (C) 2021 Eduardo ...\\\n",
    " Copyright (C) 2021 Sandro Dias Pinto Vitenti <vitenti@uel.br>\n",
    "\n",
    "\n",
    " numcosmo is free software: you can redistribute it and/or modify it\n",
    " under the terms of the GNU General Public License as published by the\n",
    " Free Software Foundation, either version 3 of the License, or\n",
    " (at your option) any later version.\n",
    "\n",
    " numcosmo is distributed in the hope that it will be useful, but\n",
    " WITHOUT ANY WARRANTY; without even the implied warranty of\n",
    " MERCHANTABILITY or FITNESS FOR A PARTICULAR PURPOSE.\n",
    " See the GNU General Public License for more details.\n",
    "\n",
    " You should have received a copy of the GNU General Public License along\n",
    " with this program.  If not, see <http://www.gnu.org/licenses/>.\n",
    " \n",
    "---"
   ]
  },
  {
   "cell_type": "code",
   "execution_count": 1,
   "metadata": {},
   "outputs": [],
   "source": [
    "try:\n",
    "  import gi\n",
    "  gi.require_version('NumCosmo', '1.0')\n",
    "  gi.require_version('NumCosmoMath', '1.0')\n",
    "except:\n",
    "  pass\n",
    "\n",
    "import sys\n",
    "import math\n",
    "import matplotlib as mpl\n",
    "import matplotlib.pyplot as plt\n",
    "import numpy as np\n",
    "import scipy.stats\n",
    "from scipy.optimize import minimize\n",
    "\n",
    "from gi.repository import NumCosmo as Nc\n",
    "from gi.repository import NumCosmoMath as Ncm\n",
    "%matplotlib inline"
   ]
  },
  {
   "cell_type": "code",
   "execution_count": 2,
   "metadata": {},
   "outputs": [],
   "source": [
    "__name__ = \"NcContext\"\n",
    "\n",
    "Ncm.cfg_init ()\n",
    "Ncm.cfg_set_log_handler (lambda msg: sys.stdout.write (msg) and sys.stdout.flush ())"
   ]
  },
  {
   "cell_type": "code",
   "execution_count": 3,
   "metadata": {},
   "outputs": [
    {
     "name": "stdout",
     "output_type": "stream",
     "text": [
      "[0.83090463 0.01218116]\n"
     ]
    }
   ],
   "source": [
    "dim = 2\n",
    "p = np.random.random_sample((dim,))\n",
    "print (p)"
   ]
  },
  {
   "cell_type": "code",
   "execution_count": 4,
   "metadata": {},
   "outputs": [
    {
     "name": "stdout",
     "output_type": "stream",
     "text": [
      "#----------------------------------------------------------------------------------\n",
      "# Model[00000]:\n",
      "#   - NcmModelMVND : MVND\n",
      "#----------------------------------------------------------------------------------\n",
      "# Model parameters\n",
      "#   - mu_0[00]:  0.830904628406116   [FREE]\n",
      "#   - mu_1[01]:  0.0121811614735087  [FREE]\n"
     ]
    }
   ],
   "source": [
    "rng = Ncm.RNG.new (None)\n",
    "\n",
    "fmodel = Ncm.ModelMVND.new (dim)\n",
    "fdata = Ncm.DataGaussCovMVND.new_full (dim, 0.1, 0.4, 10.0, -1.0, 1.0, rng)\n",
    "\n",
    "fdata.props.use_norma = True\n",
    "\n",
    "mset = Ncm.MSet.new_array ([fmodel])\n",
    "mset.param_set_all_ftype (Ncm.ParamType.FREE)\n",
    "mset.prepare_fparam_map ()\n",
    "\n",
    "mset.fparams_set_array (p)\n",
    "mset.pretty_log ()"
   ]
  },
  {
   "cell_type": "code",
   "execution_count": 5,
   "metadata": {},
   "outputs": [
    {
     "data": {
      "text/plain": [
       "-0.48227804757909415"
      ]
     },
     "execution_count": 5,
     "metadata": {},
     "output_type": "execute_result"
    }
   ],
   "source": [
    "y_a = []\n",
    "x_a = []\n",
    "xn_a = []\n",
    "\n",
    "#interp = Ncm.StatsDistNdKDEStudentt.new (len (p), Ncm.StatsDistNdCV.NONE, 5.0)\n",
    "interp = Ncm.StatsDistNdKDEGauss.new (len (p), Ncm.StatsDistNdCV.NONE)\n",
    "nps = 200\n",
    "\n",
    "for a in range (nps):\n",
    "    v, N = fdata.gen (mset, None, None, rng)\n",
    "    interp.add_obs (v)\n",
    "    y_a.append (fdata.m2lnL_val (mset))\n",
    "    x_a.append (v.dup_array ())\n",
    "\n",
    "for a in range (nps):\n",
    "    v, N = fdata.gen (mset, None, None, rng)\n",
    "    xn_a.append (v.dup_array ())\n",
    "\n",
    "y_a = np.array (y_a)\n",
    "x_a = np.array (x_a)\n",
    "xn_a = np.array (xn_a)\n",
    "\n",
    "fdata.y.set_array (p)\n",
    "\n",
    "fdata.m2lnL_val (mset)"
   ]
  },
  {
   "cell_type": "code",
   "execution_count": 6,
   "metadata": {},
   "outputs": [],
   "source": [
    "   \n",
    "def calib (val):\n",
    "    interp.set_over_smooth (val)\n",
    "    interp.prepare_interp (Ncm.Vector.new_array (y_a))\n",
    "    \n",
    "    yi_a = []\n",
    "    ya_a = []\n",
    "    yi_b = []\n",
    "\n",
    "    for x in xn_a:\n",
    "        mset.fparams_set_array (x)\n",
    "        fdata.prepare (mset)\n",
    "        yi_a.append (interp.eval_m2lnp (Ncm.Vector.new_array (x)))\n",
    "        ya_a.append (fdata.m2lnL_val (mset))\n",
    "\n",
    "    yi_a = np.array (yi_a)\n",
    "    ya_a = np.array (ya_a)\n",
    "        \n",
    "    m = -np.average (yi_a - ya_a, weights = 1.0 / ya_a**2)\n",
    "\n",
    "    diff = (yi_a + m) / ya_a - 1.0\n",
    "    \n",
    "    return np.sum(diff**2)/len(diff)\n",
    "\n",
    "calib_os = minimize (calib, 2.17, method='Nelder-Mead', tol=1.0e-11, options = {'maxiter': 1e8, 'xatol': 1.0e-7, 'fatol': 1.0e-7})\n"
   ]
  },
  {
   "cell_type": "code",
   "execution_count": 7,
   "metadata": {},
   "outputs": [
    {
     "name": "stdout",
     "output_type": "stream",
     "text": [
      " final_simplex: (array([[2.05257017],\n",
      "       [2.05257022]]), array([7.85766848e-11, 7.85767040e-11]))\n",
      "           fun: 7.857668477039276e-11\n",
      "       message: 'Optimization terminated successfully.'\n",
      "          nfev: 47\n",
      "           nit: 23\n",
      "        status: 0\n",
      "       success: True\n",
      "             x: array([2.05257017])\n"
     ]
    }
   ],
   "source": [
    "print (calib_os)"
   ]
  },
  {
   "cell_type": "code",
   "execution_count": 8,
   "metadata": {},
   "outputs": [
    {
     "data": {
      "image/png": "[encoded data removed]",
      "text/plain": [
       "<Figure size 1008x504 with 1 Axes>"
      ]
     },
     "metadata": {
      "needs_background": "light"
     },
     "output_type": "display_data"
    }
   ],
   "source": [
    "l_a = []\n",
    "f_a = []\n",
    "g_a = []\n",
    "h_a = []\n",
    "\n",
    "for l in np.geomspace (1.0e-1, 1.0e2, 200):\n",
    "    interp.set_over_smooth (l)\n",
    "    interp.prepare_interp (Ncm.Vector.new_array (y_a))\n",
    "    yi_a = []\n",
    "    ya_a = []\n",
    "    yi_b = []\n",
    "\n",
    "    for x in xn_a:\n",
    "        mset.fparams_set_array (x)\n",
    "        fdata.prepare (mset)\n",
    "        yi_a.append (interp.eval_m2lnp (Ncm.Vector.new_array (x)))\n",
    "        ya_a.append (fdata.m2lnL_val (mset))\n",
    "\n",
    "    yi_a = np.array (yi_a)\n",
    "    ya_a = np.array (ya_a)\n",
    "\n",
    "    m = -np.average (yi_a - ya_a, weights = 1.0 / ya_a**2)\n",
    "    diff = (yi_a + m) / ya_a - 1.0\n",
    "    diff2 = (yi_a + m) - ya_a\n",
    "    \n",
    "    l_a.append (l)\n",
    "    f_a.append (np.sqrt (np.sum (diff2**2)/len(diff2)))\n",
    "    g_a.append (np.sqrt (np.sum (diff **2)/len(diff )))\n",
    "\n",
    "\n",
    "plt.figure (figsize=(14, 7))\n",
    "#plt.plot (l_a, f_a, 'b-', label='ya-yi')\n",
    "plt.plot (l_a, g_a, 'r-', label='ya/yi-1')\n",
    "plt.legend(loc='best')\n",
    "\n",
    "plt.xscale ('log')\n",
    "plt.yscale ('log')\n"
   ]
  },
  {
   "cell_type": "code",
   "execution_count": 9,
   "metadata": {},
   "outputs": [],
   "source": [
    "#interp.prepare ()\n",
    "interp.set_over_smooth (calib_os['x'][0])\n",
    "#interp.set_over_smooth (1.0e-10)\n",
    "interp.prepare_interp (Ncm.Vector.new_array (y_a))"
   ]
  },
  {
   "cell_type": "code",
   "execution_count": 10,
   "metadata": {},
   "outputs": [
    {
     "name": "stdout",
     "output_type": "stream",
     "text": [
      "m:  0.6024237825146304\n",
      "8.9e-06\n",
      "3.4e-07\n",
      "0.0\n",
      "[0.08243734 0.08244732 0.08243745 0.08243742 0.0824373  0.0824367\n",
      " 0.08243805 0.08243657 0.08243692 0.08243736 0.08243746 0.08243731\n",
      " 0.08243728 0.08243742 0.08243775 0.08243731 0.08243758 0.08243721\n",
      " 0.08243742 0.0824372  0.08243731 0.08244162 0.08243758 0.08243726\n",
      " 0.08243578 0.08243849 0.08243754 0.08243697 0.08243761 0.08216397\n",
      " 0.08243766 0.0824434  0.08243724 0.08235698 0.08243773 0.0824371\n",
      " 0.08243774 0.08243712 0.08243721 0.08243731 0.08243714 0.08243756\n",
      " 0.08243728 0.08243741 0.08243754 0.08243738 0.08243781 0.08243737\n",
      " 0.08243729 0.08243731 0.08243731 0.08267399 0.08243739 0.08243742\n",
      " 0.08243738 0.0824378  0.08243752 0.08243742 0.08243697 0.08243701\n",
      " 0.08243717 0.08243735 0.08243697 0.08243834 0.08243747 0.08243412\n",
      " 0.08243752 0.08243751 0.08243469 0.08243769 0.08243717 0.08243902\n",
      " 0.08243663 0.08243782 0.08243728 0.08243207 0.08243717 0.08243757\n",
      " 0.0824373  0.0824348  0.08243748 0.0824363  0.08243739 0.0824373\n",
      " 0.08243736 0.08243762 0.08243739 0.08243741 0.08243727 0.08243733\n",
      " 0.0824374  0.08242276 0.08259619 0.08243725 0.08243726 0.08243716\n",
      " 0.08243724 0.08243731 0.08243713 0.08243702 0.08243726 0.08243832\n",
      " 0.08242297 0.0824287  0.08243756 0.08243716 0.08243768 0.08243724\n",
      " 0.08243693 0.08243743 0.08243739 0.08243204 0.08243798 0.0824377\n",
      " 0.08243734 0.0824384  0.08243689 0.08244363 0.08242906 0.08243725\n",
      " 0.08243752 0.08243734 0.08243734 0.08243733 0.08243779 0.08243747\n",
      " 0.08243767 0.08243647 0.08243695 0.08220781 0.08243693 0.08243749\n",
      " 0.08243742 0.08243731 0.08243466 0.08242791 0.08243738 0.08243741\n",
      " 0.08243715 0.08243782 0.08243738 0.08244321 0.08243735 0.08243777\n",
      " 0.08243718 0.08243727 0.08243719 0.08243733 0.08243723 0.08243617\n",
      " 0.08243729 0.08246868 0.08243774 0.08243754 0.08243892 0.08243893\n",
      " 0.08243178 0.08243722 0.08243708 0.08243717 0.08243698 0.08243751\n",
      " 0.08149452 0.0824375  0.08243712 0.0824374  0.08244053 0.08243733\n",
      " 0.08243749 0.08243782 0.08243741 0.08243748 0.08243725 0.08243689\n",
      " 0.08243742 0.08243703 0.08243727 0.08243719 0.08243732 0.08240606\n",
      " 0.08243731 0.08243724 0.08243731 0.08243739 0.08243701 0.08243844\n",
      " 0.08243743 0.08243743 0.08243737 0.08243722 0.08243769 0.08243729\n",
      " 0.08243702 0.082438   0.08243605 0.08243818 0.08243128 0.08243763\n",
      " 0.08243744 0.08243739]\n"
     ]
    },
    {
     "data": {
      "image/png": "[encoded data removed]",
      "text/plain": [
       "<Figure size 1008x504 with 1 Axes>"
      ]
     },
     "metadata": {
      "needs_background": "light"
     },
     "output_type": "display_data"
    }
   ],
   "source": [
    "       \n",
    "yi_a = []\n",
    "ya_a = []\n",
    "yi_b = []\n",
    "\n",
    "for x in xn_a:\n",
    "    mset.fparams_set_array (x)\n",
    "    fdata.prepare (mset)\n",
    "    yi_a.append (interp.eval_m2lnp (Ncm.Vector.new_array (x)))\n",
    "    ya_a.append (fdata.m2lnL_val (mset))\n",
    "\n",
    "yi_a = np.array (yi_a)\n",
    "ya_a = np.array (ya_a)\n",
    "\n",
    "m = -np.average (yi_a - ya_a, weights = 1.0 / ya_a**2)\n",
    "print (\"m: \", m)\n",
    "diff = (yi_a + m) / ya_a - 1.0\n",
    "diff2 = (yi_a + m) - ya_a\n",
    "\n",
    "norm, cont = scipy.stats.mode (diff)\n",
    "plt.figure (figsize=(14, 7))\n",
    "\n",
    "bla = plt.hist(np.log10 (np.abs(diff )), bins = 60, label='ya/yi-1')\n",
    "#bla = plt.hist(np.log10 (np.abs(diff2)), bins = 60, label='ya-yi')\n",
    "#bla = plt.hist(ya_a,     bins = 60, label='ya')\n",
    "#bla = plt.hist(yi_a + m, bins = 60, label='yi')\n",
    "#plt.yscale ('log')\n",
    "plt.grid ()\n",
    "plt.legend(loc='best')\n",
    "\n",
    "mean_err = 10**(np.mean (np.log10 (np.abs (diff))))\n",
    "\n",
    "print (\"%.1e\" % (np.sqrt (np.sum(diff**2)/len(diff))))\n",
    "print (\"%.1e\" % (mean_err))\n",
    "print (sum(np.abs ((yi_a + 0.68486113) / ya_a - 1.0) < mean_err)/len(ya_a))\n",
    "\n",
    "print (yi_a-ya_a+0.68486113)\n",
    "\n",
    "#print (sum (np.abs((yi_a+m)/ya_a-1.0) < 1.0e-7)/len(ya_a))\n"
   ]
  },
  {
   "cell_type": "code",
   "execution_count": 11,
   "metadata": {},
   "outputs": [
    {
     "data": {
      "image/png": "[encoded data removed]",
      "text/plain": [
       "<Figure size 1008x504 with 1 Axes>"
      ]
     },
     "metadata": {
      "needs_background": "light"
     },
     "output_type": "display_data"
    }
   ],
   "source": [
    "l0_a = []\n",
    "f0_a = []\n",
    "g0_a = []\n",
    "\n",
    "for l in np.geomspace (1.0e-1, 1.0e2, 200):\n",
    "    interp.set_over_smooth (l)\n",
    "    interp.prepare_interp (Ncm.Vector.new_array (y_a))\n",
    "    yi_a = []\n",
    "    ya_a = []\n",
    "    yi_b = []\n",
    "\n",
    "    for x in x_a:\n",
    "        mset.fparams_set_array (x)\n",
    "        fdata.prepare (mset)\n",
    "        yi_a.append (interp.eval_m2lnp (Ncm.Vector.new_array (x)))\n",
    "        ya_a.append (fdata.m2lnL_val (mset))\n",
    "\n",
    "    yi_a = np.array (yi_a)\n",
    "    ya_a = np.array (ya_a)\n",
    "\n",
    "    m = -np.average (yi_a - ya_a, weights = 1.0 / ya_a**2)\n",
    "    diff = (yi_a + m) / ya_a - 1.0\n",
    "    diff2 = (yi_a + m) - ya_a\n",
    "    \n",
    "    l0_a.append (l)\n",
    "    f0_a.append (np.sqrt (np.sum (diff2**2)/len(diff2)))\n",
    "    g0_a.append (np.sqrt (np.sum (diff **2)/len(diff )))\n",
    "\n",
    "\n",
    "plt.figure (figsize=(14, 7))\n",
    "plt.plot (l_a, g_a, 'b-', label='ya/yi-1')\n",
    "plt.plot (l0_a, g0_a, 'r-', label='s0 ya/yi-1')\n",
    "plt.legend(loc='best')\n",
    "plt.grid()\n",
    "\n",
    "plt.xscale ('log')\n",
    "plt.yscale ('log')\n"
   ]
  },
  {
   "cell_type": "code",
   "execution_count": null,
   "metadata": {},
   "outputs": [],
   "source": []
  }
 ],
 "metadata": {
  "kernelspec": {
   "display_name": "Python 3",
   "language": "python",
   "name": "python3"
  },
  "language_info": {
   "codemirror_mode": {
    "name": "ipython",
    "version": 3
   },
   "file_extension": ".py",
   "mimetype": "text/x-python",
   "name": "python",
   "nbconvert_exporter": "python",
   "pygments_lexer": "ipython3",
   "version": "3.9.2"
  }
 },
 "nbformat": 4,
 "nbformat_minor": 2
}
