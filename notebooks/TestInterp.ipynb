{
 "cells": [
  {
   "cell_type": "markdown",
   "metadata": {},
   "source": [
    "---\n",
    "**License**\n",
    "\n",
    " TestInterp\n",
    "\n",
    " Mon Jan 25 20:56:00 2020\\\n",
    " Copyright  2021\\\n",
    " Eduardo ...\\\n",
    " Sandro Dias Pinto Vitenti <vitenti@uel.br>\n",
    "\n",
    "---\n",
    "---\n",
    "\n",
    " TestInterp\\\n",
    " Copyright (C) 2021 Eduardo ...\\\n",
    " Copyright (C) 2021 Sandro Dias Pinto Vitenti <vitenti@uel.br>\n",
    "\n",
    "\n",
    " numcosmo is free software: you can redistribute it and/or modify it\n",
    " under the terms of the GNU General Public License as published by the\n",
    " Free Software Foundation, either version 3 of the License, or\n",
    " (at your option) any later version.\n",
    "\n",
    " numcosmo is distributed in the hope that it will be useful, but\n",
    " WITHOUT ANY WARRANTY; without even the implied warranty of\n",
    " MERCHANTABILITY or FITNESS FOR A PARTICULAR PURPOSE.\n",
    " See the GNU General Public License for more details.\n",
    "\n",
    " You should have received a copy of the GNU General Public License along\n",
    " with this program.  If not, see <http://www.gnu.org/licenses/>.\n",
    " \n",
    "---"
   ]
  },
  {
   "cell_type": "code",
   "execution_count": 1,
   "metadata": {},
   "outputs": [],
   "source": [
    "try:\n",
    "  import gi\n",
    "  gi.require_version('NumCosmo', '1.0')\n",
    "  gi.require_version('NumCosmoMath', '1.0')\n",
    "except:\n",
    "  pass\n",
    "\n",
    "import sys\n",
    "import math\n",
    "import matplotlib as mpl\n",
    "import matplotlib.pyplot as plt\n",
    "import numpy as np\n",
    "import scipy.stats\n",
    "from scipy.optimize import minimize\n",
    "\n",
    "from gi.repository import NumCosmo as Nc\n",
    "from gi.repository import NumCosmoMath as Ncm\n",
    "%matplotlib inline"
   ]
  },
  {
   "cell_type": "code",
   "execution_count": 2,
   "metadata": {},
   "outputs": [],
   "source": [
    "__name__ = \"NcContext\"\n",
    "\n",
    "Ncm.cfg_init ()\n",
    "Ncm.cfg_set_log_handler (lambda msg: sys.stdout.write (msg) and sys.stdout.flush ())"
   ]
  },
  {
   "cell_type": "code",
   "execution_count": 3,
   "metadata": {},
   "outputs": [
    {
     "name": "stdout",
     "output_type": "stream",
     "text": [
      "[0.69646919 0.28613933 0.22685145 0.55131477 0.71946897 0.42310646\n",
      " 0.9807642  0.68482974 0.4809319  0.39211752 0.34317802 0.72904971\n",
      " 0.43857224 0.0596779  0.39804426]\n"
     ]
    }
   ],
   "source": [
    "dim = 15\n",
    "np.random.seed(seed=123)\n",
    "    \n",
    "p = np.random.random_sample((dim,))\n",
    "print (p)"
   ]
  },
  {
   "cell_type": "code",
   "execution_count": 4,
   "metadata": {},
   "outputs": [
    {
     "name": "stdout",
     "output_type": "stream",
     "text": [
      "#----------------------------------------------------------------------------------\n",
      "# Model[00000]:\n",
      "#   - NcmModelMVND : MVND\n",
      "#----------------------------------------------------------------------------------\n",
      "# Model parameters\n",
      "#   -  mu_0[00]:  0.696469185597862   [FREE]\n",
      "#   -  mu_1[01]:  0.286139334950379   [FREE]\n",
      "#   -  mu_2[02]:  0.226851453564203   [FREE]\n",
      "#   -  mu_3[03]:  0.551314769082891   [FREE]\n",
      "#   -  mu_4[04]:  0.719468969785563   [FREE]\n",
      "#   -  mu_5[05]:  0.423106460124461   [FREE]\n",
      "#   -  mu_6[06]:  0.980764198384615   [FREE]\n",
      "#   -  mu_7[07]:  0.684829738584863   [FREE]\n",
      "#   -  mu_8[08]:  0.480931901484361   [FREE]\n",
      "#   -  mu_9[09]:  0.392117518194151   [FREE]\n",
      "#   - mu_10[10]:  0.343178016150869   [FREE]\n",
      "#   - mu_11[11]:  0.729049707384042   [FREE]\n",
      "#   - mu_12[12]:  0.438572244679624   [FREE]\n",
      "#   - mu_13[13]:  0.0596778966095683  [FREE]\n",
      "#   - mu_14[14]:  0.398044255330431   [FREE]\n"
     ]
    }
   ],
   "source": [
    "rng = Ncm.RNG.seeded_new (None, 123)\n",
    "\n",
    "fmodel = Ncm.ModelMVND.new (dim)\n",
    "fdata = Ncm.DataGaussCovMVND.new_full (dim, 0.1, 0.4, 10.0, -1.0, 1.0, rng)\n",
    "\n",
    "fdata.props.use_norma = True\n",
    "\n",
    "mset = Ncm.MSet.new_array ([fmodel])\n",
    "mset.param_set_all_ftype (Ncm.ParamType.FREE)\n",
    "mset.prepare_fparam_map ()\n",
    "\n",
    "mset.fparams_set_array (p)\n",
    "mset.pretty_log ()"
   ]
  },
  {
   "cell_type": "code",
   "execution_count": 5,
   "metadata": {},
   "outputs": [
    {
     "data": {
      "text/plain": [
       "-21.627304805085192"
      ]
     },
     "execution_count": 5,
     "metadata": {},
     "output_type": "execute_result"
    }
   ],
   "source": [
    "y_a = []\n",
    "x_a = []\n",
    "xn_a = []\n",
    "\n",
    "#interp = Ncm.StatsDistNdKDEStudentt.new (len (p), Ncm.StatsDistNdCV.NONE, 3.0)\n",
    "interp = Ncm.StatsDistNdKDEGauss.new (len (p), Ncm.StatsDistNdCV.NONE)\n",
    "nps = 500\n",
    "\n",
    "for a in range (nps):\n",
    "    v, N = fdata.gen (mset, None, None, rng)\n",
    "    interp.add_obs (v)\n",
    "    y_a.append (fdata.m2lnL_val (mset))\n",
    "    x_a.append (v.dup_array ())\n",
    "\n",
    "for a in range (nps):\n",
    "    v, N = fdata.gen (mset, None, None, rng)\n",
    "    xn_a.append (v.dup_array ())\n",
    "\n",
    "y_a = np.array (y_a)\n",
    "x_a = np.array (x_a)\n",
    "xn_a = np.array (xn_a)\n",
    "\n",
    "fdata.y.set_array (p)\n",
    "\n",
    "fdata.m2lnL_val (mset)"
   ]
  },
  {
   "cell_type": "code",
   "execution_count": 6,
   "metadata": {},
   "outputs": [
    {
     "name": "stdout",
     "output_type": "stream",
     "text": [
      "OS:                      1, RNORM:      0.600887770990936\n",
      "OS:       1.10517091807565, RNORM:      0.594002223854727\n",
      "OS:       1.22140275816017, RNORM:      0.574569303592521\n",
      "OS:         1.349858807576, RNORM:      0.530138816534928\n",
      "OS:       1.64872127070013, RNORM:         0.411598316293\n",
      "OS:       2.01375270747048, RNORM:      0.892926525719508\n",
      "OS:       2.01375270747048, RNORM:      0.892926525719507\n",
      "OS:       1.49182469764127, RNORM:      0.456059010394587\n",
      "OS:       1.82211880039051, RNORM:      0.565082978752441\n",
      "OS:       1.56831218549017, RNORM:      0.420892758822804\n",
      "OS:       1.73325301786739, RNORM:      0.456550540245671\n",
      "OS:       1.60801419748578, RNORM:      0.411289505139479\n",
      "OS:       1.56831218549017, RNORM:      0.420892758822804\n",
      "OS:       1.62824052614551, RNORM:      0.409941731753235\n",
      "OS:       1.64872127070013, RNORM:         0.411598316293\n",
      "OS:       1.61809575827999, RNORM:      0.410281257716635\n",
      "OS:       1.63844889736362, RNORM:      0.410357185335728\n",
      "OS:       1.62316021661931, RNORM:      0.410022969680312\n",
      "OS:       1.63333673647104, RNORM:      0.410049340341896\n",
      "OS:        1.6256983868869, RNORM:       0.40995922667854\n",
      "OS:       1.63078664060152, RNORM:      0.409971260122143\n",
      "OS:       1.62696896000466, RNORM:      0.409944634517823\n",
      "OS:       1.62951308608556, RNORM:      0.409950583578886\n",
      "OS:        1.6276046188987, RNORM:      0.409941718354724\n",
      "OS:       1.62696896000466, RNORM:      0.409944634517823\n",
      "OS:       1.62792254147195, RNORM:      0.409941358413487\n",
      "OS:       1.62824052614551, RNORM:      0.409941731753235\n",
      "OS:       1.62776357242355, RNORM:      0.409941446779397\n",
      "OS:       1.62808152604543, RNORM:      0.409941453367922\n",
      "OS:       1.62784305500721, RNORM:      0.409941379688323\n",
      "OS:       1.62800203181796, RNORM:      0.409941382968744\n",
      "OS:       1.62788279775443, RNORM:      0.409941363323009\n",
      "OS:       1.62796228615978, RNORM:      0.409941364961489\n",
      "OS:        1.6279026694919, RNORM:      0.409941359436166\n",
      "OS:       1.62794241369458, RNORM:       0.40994136025519\n",
      "OS:        1.6279126054516, RNORM:      0.409941358566792\n",
      "OS:       1.62793247755294, RNORM:      0.409941358976277\n",
      "OS:        1.6279175734542, RNORM:       0.40994135840063\n",
      "OS:        1.6279126054516, RNORM:      0.409941358566792\n",
      "OS:       1.62792005746118, RNORM:      0.409941358384681\n",
      "OS:       1.62792254147195, RNORM:      0.409941358413487\n",
      "OS:       1.62791881545721, RNORM:      0.409941358387061\n",
      "OS:       1.62792129946609, RNORM:      0.409941358393489\n",
      "OS:       1.62791943645908, RNORM:      0.409941358384472\n",
      "OS:       1.62791881545721, RNORM:      0.409941358387061\n",
      "OS:        1.6279197469601, RNORM:      0.409941358384227\n",
      "OS:        1.6279197469601, RNORM:      0.409941358384227\n",
      "0.16805191731390506 1.6279197469600966\n"
     ]
    }
   ],
   "source": [
    "interp.set_cv_type (Ncm.StatsDistNdCV.SPLIT)\n",
    "interp.prepare_interp (Ncm.Vector.new_array (y_a))\n",
    "interp.set_cv_type (Ncm.StatsDistNdCV.NONE)\n",
    "\n",
    "calib_os = interp.get_over_smooth ()\n",
    "\n",
    "print (interp.get_rnorm (), calib_os)\n",
    "\n"
   ]
  },
  {
   "cell_type": "code",
   "execution_count": 7,
   "metadata": {},
   "outputs": [
    {
     "name": "stdout",
     "output_type": "stream",
     "text": [
      "1.6279197469600966\n"
     ]
    }
   ],
   "source": [
    "print (calib_os)"
   ]
  },
  {
   "cell_type": "code",
   "execution_count": 8,
   "metadata": {},
   "outputs": [
    {
     "name": "stdout",
     "output_type": "stream",
     "text": [
      "OS:        1.6279197469601, RNORM:      0.409941358384227\n"
     ]
    }
   ],
   "source": [
    "interp.set_over_smooth (calib_os)\n",
    "interp.prepare_interp (Ncm.Vector.new_array (y_a))"
   ]
  },
  {
   "cell_type": "code",
   "execution_count": 9,
   "metadata": {},
   "outputs": [
    {
     "name": "stdout",
     "output_type": "stream",
     "text": [
      "mean error  2.01e-01\n",
      "Prob accept 74.2%\n"
     ]
    },
    {
     "data": {
      "image/png": "[encoded data removed]",
      "text/plain": [
       "<Figure size 1008x504 with 1 Axes>"
      ]
     },
     "metadata": {
      "needs_background": "light"
     },
     "output_type": "display_data"
    },
    {
     "data": {
      "image/png": "[encoded data removed]",
      "text/plain": [
       "<Figure size 1008x504 with 1 Axes>"
      ]
     },
     "metadata": {
      "needs_background": "light"
     },
     "output_type": "display_data"
    }
   ],
   "source": [
    "       \n",
    "yi_a = []\n",
    "ya_a = []\n",
    "yi_b = []\n",
    "\n",
    "for x in xn_a:\n",
    "    mset.fparams_set_array (x)\n",
    "    fdata.prepare (mset)\n",
    "    yi_a.append (interp.eval_m2lnp (Ncm.Vector.new_array (x)))\n",
    "    ya_a.append (fdata.m2lnL_val (mset))\n",
    "\n",
    "yi_a = np.array (yi_a)\n",
    "ya_a = np.array (ya_a)\n",
    "\n",
    "m = -np.mean (yi_a - ya_a)\n",
    "diff = (yi_a + m) / ya_a - 1.0\n",
    "\n",
    "probs = np.minimum(np.exp (-0.5*((yi_a[0::2]-ya_a[0::2])-(yi_a[1::2]-ya_a[1::2]))), 1.0)\n",
    "bfact = np.abs(np.exp (-0.5*((yi_a[0::2]-ya_a[0::2])-(yi_a[1::2]-ya_a[1::2])))-1.0)\n",
    "\n",
    "mean_err = 10**(np.mean (np.log10 (np.abs (diff))))\n",
    "\n",
    "print (\"mean error  %.2e\" % (mean_err))\n",
    "print (\"Prob accept %.1f%%\" % (100.0 * np.mean (probs)))\n",
    "\n",
    "plt.figure (figsize=(14, 7))\n",
    "\n",
    "plt.hist (probs, label='prob', bins = 60, density=True)\n",
    "plt.grid ()\n",
    "plt.legend(loc='best')\n",
    "plt.show ()\n",
    "\n",
    "plt.figure (figsize=(14, 7))\n",
    "\n",
    "plt.hist (np.log10 (np.abs (diff)), bins = 60, label=r'$|y_i/y_a - 1|$')\n",
    "plt.grid ()\n",
    "plt.legend(loc='best')\n",
    "plt.show ()\n"
   ]
  },
  {
   "cell_type": "code",
   "execution_count": null,
   "metadata": {},
   "outputs": [],
   "source": []
  }
 ],
 "metadata": {
  "kernelspec": {
   "display_name": "Python 3",
   "language": "python",
   "name": "python3"
  },
  "language_info": {
   "codemirror_mode": {
    "name": "ipython",
    "version": 3
   },
   "file_extension": ".py",
   "mimetype": "text/x-python",
   "name": "python",
   "nbconvert_exporter": "python",
   "pygments_lexer": "ipython3",
   "version": "3.9.2"
  }
 },
 "nbformat": 4,
 "nbformat_minor": 2
}
