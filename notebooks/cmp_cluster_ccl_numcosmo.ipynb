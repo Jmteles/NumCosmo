{
 "cells": [
  {
   "cell_type": "code",
   "execution_count": 2,
   "metadata": {},
   "outputs": [],
   "source": [
    "  #!/usr/bin/env python\n",
    "\n",
    "try:\n",
    "    import gi\n",
    "    gi.require_version('NumCosmo', '1.0')\n",
    "    gi.require_version('NumCosmoMath', '1.0')\n",
    "except:\n",
    "    pass\n",
    "\n",
    "import math\n",
    "import matplotlib.pyplot as plt\n",
    "from gi.repository import GObject\n",
    "from gi.repository import NumCosmo as nc\n",
    "from gi.repository import NumCosmoMath as ncm\n",
    "import numpy as np\n",
    "ncm.cfg_init()\n",
    "\n",
    "cosmo = nc.HICosmo.new_from_name (nc.HICosmo, \"NcHICosmoDEXcdm\")\n",
    "primo = nc.HIPrimPowerLaw.new ()\n",
    "\n",
    "cosmo.add_submodel(primo)\n",
    "\n",
    "cosmo.props.Omegab  = 0.048254\n",
    "cosmo.props.Omegac  = 0.30711 - 0.048254\n",
    "cosmo.props.H0 = 67.7\n",
    "primo.props.n_SA = 0.96\n",
    "h =cosmo.props.H0/100\n",
    "\n",
    "dist = nc.Distance.new (2.0)"
   ]
  },
  {
   "cell_type": "markdown",
   "metadata": {},
   "source": [
    "initialize the `ClusterAbundance` object"
   ]
  },
  {
   "cell_type": "code",
   "execution_count": 3,
   "metadata": {},
   "outputs": [
    {
     "name": "stdout",
     "output_type": "stream",
     "text": [
      "#----------------------------------------------------------------------------------\n",
      "# Model[03000]:\n",
      "#   - NcHICosmo : XCDM - Constant EOS\n",
      "#----------------------------------------------------------------------------------\n",
      "# Model parameters\n",
      "#   -         H0[00]:  67.7                [FIXED]\n",
      "#   -     Omegac[01]:  0.258856            [FIXED]\n",
      "#   -     Omegax[02]:  0.7                 [FIXED]\n",
      "#   -    Tgamma0[03]:  2.7245              [FIXED]\n",
      "#   -         Yp[04]:  0.24                [FIXED]\n",
      "#   -       ENnu[05]:  3.046               [FIXED]\n",
      "#   -     Omegab[06]:  0.048254            [FIXED]\n",
      "#   -          w[07]: -1                   [FIXED]\n",
      "#----------------------------------------------------------------------------------\n",
      "# Model[05000]:\n",
      "#   - NcHIPrim : Power Law model for primordial spectra\n",
      "#----------------------------------------------------------------------------------\n",
      "# Model parameters\n",
      "#   - ln10e10ASA[00]:  3.179               [FIXED]\n",
      "#   - T_SA_ratio[01]:  0.2                 [FIXED]\n",
      "#   -       n_SA[02]:  0.96                [FIXED]\n",
      "#   -        n_T[03]:  0                   [FIXED]\n"
     ]
    },
    {
     "data": {
      "text/plain": [
       "0.8884898175540845"
      ]
     },
     "execution_count": 3,
     "metadata": {},
     "output_type": "execute_result"
    }
   ],
   "source": [
    "#First we need to define the mulltiplicity function here we will use the tinker\n",
    "mulf = nc.MultiplicityFuncTinker.new()\n",
    "mulf.set_mdef(nc.MultiplicityFuncMassDef.CRITICAL)\n",
    "mulf.set_Delta(200)\n",
    "#Second we need to construct a filtered power spectrum \n",
    "\n",
    "#Here we are using the EH transfer function and ml power spectrum with a tophat filter\n",
    "tf = nc.TransferFunc.new_from_name('NcTransferFuncEH')\n",
    "\n",
    "psml = nc.PowspecMLTransfer.new(tf)\n",
    "psml.require_kmin (1.0e-6)\n",
    "psml.require_kmax (1.0e3)\n",
    "\n",
    "psf = ncm.PowspecFilter.new(psml,ncm.PowspecFilterType.TOPHAT)\n",
    "psf.set_best_lnr0()\n",
    "psf.prepare(cosmo)\n",
    "mfunc_oa = ncm.ObjArray.new()\n",
    "mfunc_sigma8 = ncm.MSetFuncList.new('NcHICosmo:sigma8',psf)\n",
    "mfunc_oa.add(mfunc_sigma8)\n",
    "hmf =  nc.HaloMassFunction.new(dist,psf,mulf)\n",
    "\n",
    "\n",
    "ca = nc.ClusterAbundance.new(hmf,None)\n",
    "mset = ncm.MSet.new_array([cosmo])\n",
    "mset.pretty_log()\n",
    "cosmo.sigma8(psf)"
   ]
  },
  {
   "cell_type": "markdown",
   "metadata": {},
   "source": [
    "# Binned approach\n",
    "Compute the 2D integral"
   ]
  },
  {
   "cell_type": "markdown",
   "metadata": {},
   "source": [
    "$$\n",
    "N_{\\alpha\\beta}^{\\rm predicted} = \\Omega_s\\int_{z_\\alpha}^{z_{\\alpha + 1}} dz\\int_{\\log_{10}M_\\beta}^{\\log_{10}M_{\\beta + 1}}\\frac{d^2V(z)}{dz d\\Omega}\\frac{dn(M,z)}{d\\log_{10}M}d\\log_{10}M\n",
    "$$"
   ]
  },
  {
   "cell_type": "code",
   "execution_count": null,
   "metadata": {},
   "outputs": [],
   "source": [
    "ncdata = nc.DataClusterNCount.new(ca)\n",
    "z_nodes = ncm.Vector.new_array(np.linspace(0.25, 1.25, 16))\n",
    "lnM_nodes = ncm.Vector.new_array(np.linspace(14, 14.8, 11))\n",
    "ncdata.set_bin_by_nodes(z_nodes,lnM_nodes)\n",
    "\n",
    "rng = ncm.RNG.pool_get(\"example_ca_sampling\")\n",
    "ncdata.init_from_sampling(mset, 0.25*4*np.pi, rng)"
   ]
  },
  {
   "cell_type": "code",
   "execution_count": null,
   "metadata": {},
   "outputs": [],
   "source": []
  }
 ],
 "metadata": {
  "interpreter": {
   "hash": "916dbcbb3f70747c44a77c7bcd40155683ae19c65e1c03b4aa3499c5328201f1"
  },
  "kernelspec": {
   "display_name": "Python 3 (ipykernel)",
   "language": "python",
   "name": "python3"
  },
  "language_info": {
   "codemirror_mode": {
    "name": "ipython",
    "version": 3
   },
   "file_extension": ".py",
   "mimetype": "text/x-python",
   "name": "python",
   "nbconvert_exporter": "python",
   "pygments_lexer": "ipython3",
   "version": "3.8.10"
  }
 },
 "nbformat": 4,
 "nbformat_minor": 2
}
