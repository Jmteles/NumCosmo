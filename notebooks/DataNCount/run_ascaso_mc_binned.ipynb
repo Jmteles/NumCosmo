{
 "cells": [
  {
   "cell_type": "code",
   "execution_count": 1,
   "metadata": {},
   "outputs": [
    {
     "data": {
      "text/html": [
       "<style>.container { width:80% !important; }</style>"
      ],
      "text/plain": [
       "<IPython.core.display.HTML object>"
      ]
     },
     "metadata": {},
     "output_type": "display_data"
    }
   ],
   "source": [
    "  #!/usr/bin/env python\n",
    "\n",
    "try:\n",
    "    import gi\n",
    "    gi.require_version('NumCosmo', '1.0')\n",
    "    gi.require_version('NumCosmoMath', '1.0')\n",
    "except:\n",
    "    pass\n",
    "\n",
    "import math\n",
    "import matplotlib.pyplot as plt\n",
    "from gi.repository import GObject\n",
    "from gi.repository import NumCosmo as nc\n",
    "from gi.repository import NumCosmoMath as ncm\n",
    "import numpy as np\n",
    "from astropy.io import fits\n",
    "from astropy.table import Table\n",
    "import sys\n",
    "sys.path.insert(0,'../../scripts')\n",
    "\n",
    "import pyccl as ccl\n",
    "\n",
    "from nc_ccl import create_nc_obj, ccl_cosmo_set_high_prec\n",
    "\n",
    "ncm.cfg_init()\n",
    "ncm.cfg_set_log_handler (lambda msg: sys.stdout.write (msg) and sys.stdout.flush ())\n",
    "\n",
    "from IPython.display import display, HTML\n",
    "display(HTML(\"<style>.container { width:80% !important; }</style>\"))"
   ]
  },
  {
   "cell_type": "markdown",
   "metadata": {},
   "source": [
    "initialize the `Cosmological models`"
   ]
  },
  {
   "cell_type": "code",
   "execution_count": 2,
   "metadata": {},
   "outputs": [],
   "source": [
    "#CCL cosmology\n",
    "cosmo_ccl = ccl.Cosmology(Omega_c = 0.30711 - 0.048254, Omega_b = 0.048254, h = 0.677, sigma8 = 0.8822714165197718, n_s=0.96, Omega_k = 0, transfer_function='eisenstein_hu')\n",
    "#ccl_cosmo_set_high_prec (cosmo_ccl)\n",
    "\n",
    "cosmo_numcosmo, dist, ps_lin, ps_nln, hmfunc = create_nc_obj (cosmo_ccl)\n",
    "\n",
    "psf = hmfunc.peek_psf ()"
   ]
  },
  {
   "cell_type": "markdown",
   "metadata": {},
   "source": [
    "# Define proxy modelling\n",
    "Use a mass proxy, define the probability for observing a proxy given a mass and redhsift"
   ]
  },
  {
   "cell_type": "markdown",
   "metadata": {},
   "source": [
    "$$\n",
    "P(\\log\\lambda|M,z) = N(\\mu(M,z), \\sigma^2(M,z))\n",
    "$$\n",
    "the mean is\n",
    "$$\n",
    "\\mu(M,z) = \\mu_0 + a_\\mu^M\\log_{10}\\frac{M}{M_0} + a_\\mu^z\\log_{10}\\frac{1+z}{1+z_0} \n",
    "$$\n",
    "variance is\n",
    "$$\n",
    "\\sigma(M,z) = \\sigma_0 + a_\\sigma^M\\log_{10}\\frac{M}{M_0} + a_\\sigma ^z\\log_{10}\\frac{1+z}{1+z_0} \n",
    "$$"
   ]
  },
  {
   "cell_type": "code",
   "execution_count": 3,
   "metadata": {},
   "outputs": [],
   "source": [
    "#CosmoSim_proxy model\n",
    "#M_0, z_0\n",
    "theta_pivot = [3e14/0.71, 0.6]\n",
    "#\\mu_0, a_\\mu^z, a_\\mu^M\n",
    "theta_mu = [3.19, -0.7, 2]\n",
    "#\\sigma_0, a_\\sigma^z, a_\\sigma^M\n",
    "theta_sigma = [0.33, 0.,-0.08]\n",
    "#Richness object\n",
    "\n",
    "area = (0.25)*4*np.pi / 100.0\n",
    "lnRl = 1.0\n",
    "lnRu = 2.0\n",
    "zl = 0.25\n",
    "zu = 1.0\n",
    "\n",
    "#Numcosmo_proxy model\n",
    "cluster_z = nc.ClusterRedshift.new_from_name(\"NcClusterRedshiftNodist{'z-min': <%20.15e>, 'z-max':<%20.15e>}\" % (zl, zu))\n",
    "cluster_m = nc.ClusterMass.new_from_name(\"NcClusterMassAscaso{'M0':<%20.15e>,'z0':<%20.15e>,'lnRichness-min':<%20.15e>, 'lnRichness-max':<%20.15e>}\" % (3e14/(0.71),0.6, lnRl, lnRu))\n",
    "cluster_m.param_set_by_name('mup0', 3.19)\n",
    "cluster_m.param_set_by_name('mup1', 2/np.log(10))\n",
    "cluster_m.param_set_by_name('mup2', -0.7/np.log(10))\n",
    "cluster_m.param_set_by_name('sigmap0', 0.33)\n",
    "cluster_m.param_set_by_name('sigmap1', -0.08/np.log(10))\n",
    "cluster_m.param_set_by_name('sigmap2', 0/np.log(10))"
   ]
  },
  {
   "cell_type": "markdown",
   "metadata": {},
   "source": [
    "initialize the `ClusterAbundance` object"
   ]
  },
  {
   "cell_type": "code",
   "execution_count": 4,
   "metadata": {},
   "outputs": [],
   "source": [
    "#Numcosmo Cluster Abundance\n",
    "\n",
    "#First we need to define the multiplicity function here we will use the tinker\n",
    "mulf = nc.MultiplicityFuncTinker.new()\n",
    "mulf.set_linear_interp (True)\n",
    "mulf.set_mdef(nc.MultiplicityFuncMassDef.CRITICAL)\n",
    "mulf.set_Delta(200)\n",
    "#Second we need to construct a filtered power spectrum \n",
    "\n",
    "hmf = nc.HaloMassFunction.new(dist,psf,mulf)\n",
    "hmf.set_area(area)\n",
    "\n",
    "ca = nc.ClusterAbundance.new(hmf,None)\n",
    "mset = ncm.MSet.new_array([cosmo_numcosmo,cluster_m,cluster_z])"
   ]
  },
  {
   "cell_type": "code",
   "execution_count": 5,
   "metadata": {},
   "outputs": [],
   "source": [
    "ncount = Nc.DataClusterNCount.new (ca, \"NcClusterRedshiftNodist\", \"NcClusterMassAscaso\")\n",
    "ncount.catalog_load (\"ncount_ascaso.fits\")"
   ]
  },
  {
   "cell_type": "code",
   "execution_count": 6,
   "metadata": {},
   "outputs": [],
   "source": [
    "cosmo_numcosmo.props.Omegac_fit = True\n",
    "cosmo_numcosmo.props.w0_fit = True\n",
    "cluster_m.props.mup0_fit = True\n",
    "mset.prepare_fparam_map ()"
   ]
  },
  {
   "cell_type": "code",
   "execution_count": 7,
   "metadata": {},
   "outputs": [],
   "source": [
    "ncount.set_binned (True)"
   ]
  },
  {
   "cell_type": "code",
   "execution_count": 8,
   "metadata": {},
   "outputs": [],
   "source": [
    "dset = ncm.Dataset.new ()\n",
    "dset.append_data (ncount)"
   ]
  },
  {
   "cell_type": "code",
   "execution_count": 9,
   "metadata": {},
   "outputs": [],
   "source": [
    "lh = Ncm.Likelihood (dataset = dset)\n",
    "fit = Ncm.Fit.new (Ncm.FitType.NLOPT, \"ln-neldermead\", lh, mset, Ncm.FitGradType.NUMDIFF_FORWARD)"
   ]
  },
  {
   "cell_type": "code",
   "execution_count": null,
   "metadata": {},
   "outputs": [
    {
     "name": "stdout",
     "output_type": "stream",
     "text": [
      "#----------------------------------------------------------------------------------\n",
      "# NcmFitMC: Skipping 500 realizations, will start at 501-th realization.\n",
      "# NcmFitMC: Largest relative error 1.000000e-03 not attained: 5.950225e-03\n",
      "# NcmFitMC: Running more 4301 runs...\n",
      "#----------------------------------------------------------------------------------\n",
      "# NcmFitMC: Calculating [004301] Monte Carlo fits [from-model]\n",
      "# Task:NcmFitMC, started at: Thu Apr 07 2022, 09:17:11\n",
      "# NcmMSetCatalog: Current mean:   9.3636       0.25846     -1.0289       3.1891     \n",
      "# NcmMSetCatalog: Current msd:    0.20624      0.0015364    0.006758     0.0075942  \n",
      "# NcmMSetCatalog: Current sd:     4.6162       0.034389     0.15126      0.16998    \n",
      "# NcmMSetCatalog: Current var:    21.309       0.0011826    0.022881     0.028894   \n",
      "# NcmMSetCatalog: Current tau:    1            1            1            1          \n",
      "# Task:NcmFitMC, completed: 1 of 4301, elapsed time: 00:02:53.6386\n",
      "# Task:NcmFitMC, mean time: 00:02:53.5370 +/- 00:00:   -nan\n",
      "# Task:NcmFitMC, time left: 08 days, 15:16:49.1645 +/- 00:00:   -nan\n",
      "# Task:NcmFitMC, current time:        Thu Apr 07 2022, 09:20:05\n",
      "# Task:NcmFitMC, estimated to end at: Sat Apr 16 2022, 00:36:54 +/- 00:00:   -nan\n",
      "# NcmMSetCatalog: Current mean:   9.3767       0.2584      -1.0314       3.1877     \n",
      "# NcmMSetCatalog: Current msd:    0.20595      0.0015332    0.0071858    0.0076622  \n",
      "# NcmMSetCatalog: Current sd:     4.619        0.034385     0.16116      0.17185    \n",
      "# NcmMSetCatalog: Current var:    21.335       0.0011823    0.025973     0.029531   \n",
      "# NcmMSetCatalog: Current tau:    1            1            1            1          \n",
      "# Task:NcmFitMC, completed: 3 of 4301, elapsed time: 00:03:59.2150\n",
      "# Task:NcmFitMC, mean time: 00:01:19.7085 +/- 00:00:50.5675\n",
      "# Task:NcmFitMC, time left: 03 days, 23:09:47.3049 +/- 02 days, 12:22:19.0151\n",
      "# Task:NcmFitMC, current time:        Thu Apr 07 2022, 09:21:11\n",
      "# Task:NcmFitMC, estimated to end at: Mon Apr 11 2022, 08:30:58 +/- 02 days, 12:22:19.0151\n",
      "# NcmMSetCatalog: Current mean:   9.4178       0.25823     -1.038        3.1848     \n",
      "# NcmMSetCatalog: Current msd:    0.20765      0.001536     0.0086351    0.007849   \n",
      "# NcmMSetCatalog: Current sd:     4.6709       0.034551     0.19424      0.17656    \n",
      "# NcmMSetCatalog: Current var:    21.817       0.0011938    0.037729     0.031173   \n",
      "# NcmMSetCatalog: Current tau:    1            1            1            1          \n",
      "# Task:NcmFitMC, completed: 6 of 4301, elapsed time: 00:05:45.0621\n",
      "# Task:NcmFitMC, mean time: 00:00:57.4916 +/- 00:00:29.2956\n",
      "# Task:NcmFitMC, time left: 02 days, 20:35:26.2466 +/- 1 day, 10:57:04.5404\n",
      "# Task:NcmFitMC, current time:        Thu Apr 07 2022, 09:22:56\n",
      "# Task:NcmFitMC, estimated to end at: Sun Apr 10 2022, 05:58:23 +/- 1 day, 10:57:04.5404\n",
      "# NcmMSetCatalog: Current mean:   9.4549       0.25795     -1.0455       3.1814     \n",
      "# NcmMSetCatalog: Current msd:    0.20911      0.0015329    0.0096147    0.0080429  \n",
      "# NcmMSetCatalog: Current sd:     4.7223       0.034618     0.21713      0.18163    \n",
      "# NcmMSetCatalog: Current var:    22.3         0.0011984    0.047145     0.032991   \n",
      "# NcmMSetCatalog: Current tau:    1            1            1            1          \n",
      "# Task:NcmFitMC, completed: 10 of 4301, elapsed time: 00:06:55.6477\n",
      "# Task:NcmFitMC, mean time: 00:00:41.5495 +/- 00:00:19.0543\n",
      "# Task:NcmFitMC, time left: 02 days, 01:31:28.7131 +/- 22:42:41.8376\n",
      "# Task:NcmFitMC, current time:        Thu Apr 07 2022, 09:24:07\n",
      "# Task:NcmFitMC, estimated to end at: Sat Apr 09 2022, 10:55:36 +/- 22:42:41.8376\n",
      "# NcmMSetCatalog: Current mean:   9.4544       0.25799     -1.0457       3.181      \n",
      "# NcmMSetCatalog: Current msd:    0.2087       0.0015306    0.0095973    0.0080398  \n",
      "# NcmMSetCatalog: Current sd:     4.7177       0.034599     0.21695      0.18174    \n",
      "# NcmMSetCatalog: Current var:    22.257       0.0011971    0.047067     0.033031   \n",
      "# NcmMSetCatalog: Current tau:    1            1            1            1          \n",
      "# Task:NcmFitMC, completed: 11 of 4301, elapsed time: 00:08:09.5686\n",
      "# Task:NcmFitMC, mean time: 00:00:44.4955 +/- 00:00:17.4852\n",
      "# Task:NcmFitMC, time left: 02 days, 05:01:25.8721 +/- 20:50:11.5447\n",
      "# Task:NcmFitMC, current time:        Thu Apr 07 2022, 09:25:21\n",
      "# Task:NcmFitMC, estimated to end at: Sat Apr 09 2022, 14:26:47 +/- 20:50:11.5447\n"
     ]
    }
   ],
   "source": [
    "fitmc = Ncm.FitMC.new (fit, Ncm.FitMCResampleType.FROM_MODEL, Ncm.FitRunMsgs.SIMPLE)\n",
    "fitmc.set_nthreads (3)\n",
    "\n",
    "fitmc.set_data_file (\"ncount_ascaso_mc_binned.fits\")\n",
    "\n",
    "fitmc.start_run ()\n",
    "fitmc.run_lre (500, 1.0e-3)\n",
    "fitmc.end_run ()"
   ]
  },
  {
   "cell_type": "code",
   "execution_count": null,
   "metadata": {
    "scrolled": false
   },
   "outputs": [],
   "source": [
    "ntests = 100.0\n",
    "mcat = fitmc.mcat\n",
    "\n",
    "mcat.log_current_chain_stats ()\n",
    "mcat.calc_max_ess_time (ntests, Ncm.FitRunMsgs.FULL);\n",
    "mcat.calc_heidel_diag (ntests, 0.0, Ncm.FitRunMsgs.FULL);\n",
    "\n",
    "mset.pretty_log ()\n",
    "mcat.log_full_covar ()\n",
    "mcat.log_current_stats ()\n",
    "\n",
    "be, post_lnnorm_sd = mcat.get_post_lnnorm ()\n",
    "lnevol, glnvol = mcat.get_post_lnvol (0.6827)\n",
    "\n",
    "Ncm.cfg_msg_sepa ()\n",
    "print (\"# Bayesian evidence:                                 % 22.15g +/- % 22.15g\" % (be, post_lnnorm_sd))\n",
    "print (\"# 1 sigma posterior volume:                          % 22.15g\" % lnevol)\n",
    "print (\"# 1 sigma posterior volume (Gaussian approximation): % 22.15g\" % glnvol)"
   ]
  },
  {
   "cell_type": "code",
   "execution_count": null,
   "metadata": {},
   "outputs": [],
   "source": []
  }
 ],
 "metadata": {
  "interpreter": {
   "hash": "916dbcbb3f70747c44a77c7bcd40155683ae19c65e1c03b4aa3499c5328201f1"
  },
  "kernelspec": {
   "display_name": "Python 3 (ipykernel)",
   "language": "python",
   "name": "python3"
  },
  "language_info": {
   "codemirror_mode": {
    "name": "ipython",
    "version": 3
   },
   "file_extension": ".py",
   "mimetype": "text/x-python",
   "name": "python",
   "nbconvert_exporter": "python",
   "pygments_lexer": "ipython3",
   "version": "3.10.4"
  }
 },
 "nbformat": 4,
 "nbformat_minor": 2
}
