{
 "cells": [
  {
   "cell_type": "code",
   "execution_count": 1,
   "metadata": {},
   "outputs": [
    {
     "data": {
      "text/html": [
       "<style>.container { width:80% !important; }</style>"
      ],
      "text/plain": [
       "<IPython.core.display.HTML object>"
      ]
     },
     "metadata": {},
     "output_type": "display_data"
    }
   ],
   "source": [
    "  #!/usr/bin/env python\n",
    "\n",
    "try:\n",
    "    import gi\n",
    "    gi.require_version('NumCosmo', '1.0')\n",
    "    gi.require_version('NumCosmoMath', '1.0')\n",
    "except:\n",
    "    pass\n",
    "\n",
    "import math\n",
    "import matplotlib.pyplot as plt\n",
    "from gi.repository import GObject\n",
    "from gi.repository import NumCosmo as nc\n",
    "from gi.repository import NumCosmoMath as ncm\n",
    "import numpy as np\n",
    "from astropy.io import fits\n",
    "from astropy.table import Table\n",
    "import sys\n",
    "sys.path.insert(0,'../../scripts')\n",
    "\n",
    "import pyccl as ccl\n",
    "\n",
    "from nc_ccl import create_nc_obj, ccl_cosmo_set_high_prec\n",
    "\n",
    "ncm.cfg_init()\n",
    "ncm.cfg_set_log_handler (lambda msg: sys.stdout.write (msg) and sys.stdout.flush ())\n",
    "\n",
    "from IPython.display import display, HTML\n",
    "display(HTML(\"<style>.container { width:80% !important; }</style>\"))"
   ]
  },
  {
   "cell_type": "markdown",
   "metadata": {},
   "source": [
    "initialize the `Cosmological models`"
   ]
  },
  {
   "cell_type": "code",
   "execution_count": 2,
   "metadata": {},
   "outputs": [],
   "source": [
    "#CCL cosmology\n",
    "cosmo_ccl = ccl.Cosmology(Omega_c = 0.30711 - 0.048254, Omega_b = 0.048254, h = 0.677, sigma8 = 0.8822714165197718, n_s=0.96, Omega_k = 0, transfer_function='eisenstein_hu')\n",
    "#ccl_cosmo_set_high_prec (cosmo_ccl)\n",
    "\n",
    "cosmo_numcosmo, dist, ps_lin, ps_nln, hmfunc = create_nc_obj (cosmo_ccl)\n",
    "\n",
    "psf = hmfunc.peek_psf ()"
   ]
  },
  {
   "cell_type": "markdown",
   "metadata": {},
   "source": [
    "# Define proxy modelling\n",
    "Use a mass proxy, define the probability for observing a proxy given a mass and redhsift"
   ]
  },
  {
   "cell_type": "markdown",
   "metadata": {},
   "source": [
    "$$\n",
    "P(\\log\\lambda|M,z) = N(\\mu(M,z), \\sigma^2(M,z))\n",
    "$$\n",
    "the mean is\n",
    "$$\n",
    "\\mu(M,z) = \\mu_0 + a_\\mu^M\\log_{10}\\frac{M}{M_0} + a_\\mu^z\\log_{10}\\frac{1+z}{1+z_0} \n",
    "$$\n",
    "variance is\n",
    "$$\n",
    "\\sigma(M,z) = \\sigma_0 + a_\\sigma^M\\log_{10}\\frac{M}{M_0} + a_\\sigma ^z\\log_{10}\\frac{1+z}{1+z_0} \n",
    "$$"
   ]
  },
  {
   "cell_type": "code",
   "execution_count": 3,
   "metadata": {},
   "outputs": [],
   "source": [
    "#CosmoSim_proxy model\n",
    "#M_0, z_0\n",
    "theta_pivot = [3e14/0.71, 0.6]\n",
    "#\\mu_0, a_\\mu^z, a_\\mu^M\n",
    "theta_mu = [3.19, -0.7, 2]\n",
    "#\\sigma_0, a_\\sigma^z, a_\\sigma^M\n",
    "theta_sigma = [0.33, 0.,-0.08]\n",
    "#Richness object\n",
    "\n",
    "area = (0.25)*4*np.pi / 100.0\n",
    "lnRl = 1.0\n",
    "lnRu = 2.0\n",
    "zl = 0.25\n",
    "zu = 1.0\n",
    "\n",
    "#Numcosmo_proxy model\n",
    "cluster_z = nc.ClusterRedshift.new_from_name(\"NcClusterRedshiftNodist{'z-min': <%20.15e>, 'z-max':<%20.15e>}\" % (zl, zu))\n",
    "cluster_m = nc.ClusterMass.new_from_name(\"NcClusterMassAscaso{'M0':<%20.15e>,'z0':<%20.15e>,'lnRichness-min':<%20.15e>, 'lnRichness-max':<%20.15e>}\" % (3e14/(0.71),0.6, lnRl, lnRu))\n",
    "cluster_m.param_set_by_name('mup0', 3.19)\n",
    "cluster_m.param_set_by_name('mup1', 2/np.log(10))\n",
    "cluster_m.param_set_by_name('mup2', -0.7/np.log(10))\n",
    "cluster_m.param_set_by_name('sigmap0', 0.33)\n",
    "cluster_m.param_set_by_name('sigmap1', -0.08/np.log(10))\n",
    "cluster_m.param_set_by_name('sigmap2', 0/np.log(10))"
   ]
  },
  {
   "cell_type": "markdown",
   "metadata": {},
   "source": [
    "initialize the `ClusterAbundance` object"
   ]
  },
  {
   "cell_type": "code",
   "execution_count": 4,
   "metadata": {},
   "outputs": [],
   "source": [
    "#Numcosmo Cluster Abundance\n",
    "\n",
    "#First we need to define the multiplicity function here we will use the tinker\n",
    "mulf = nc.MultiplicityFuncTinker.new()\n",
    "mulf.set_linear_interp (True)\n",
    "mulf.set_mdef(nc.MultiplicityFuncMassDef.CRITICAL)\n",
    "mulf.set_Delta(200)\n",
    "#Second we need to construct a filtered power spectrum \n",
    "\n",
    "hmf = nc.HaloMassFunction.new(dist,psf,mulf)\n",
    "hmf.set_area(area)\n",
    "\n",
    "ca = nc.ClusterAbundance.new(hmf,None)\n",
    "mset = ncm.MSet.new_array([cosmo_numcosmo,cluster_m,cluster_z])"
   ]
  },
  {
   "cell_type": "code",
   "execution_count": 5,
   "metadata": {},
   "outputs": [],
   "source": [
    "ncount = Nc.DataClusterNCount.new (ca, \"NcClusterRedshiftNodist\", \"NcClusterMassAscaso\")\n",
    "ncount.catalog_load (\"ncount_ascaso.fits\")"
   ]
  },
  {
   "cell_type": "code",
   "execution_count": 6,
   "metadata": {},
   "outputs": [],
   "source": [
    "cosmo_numcosmo.props.Omegac_fit = True\n",
    "cosmo_numcosmo.props.w0_fit = True\n",
    "cluster_m.props.mup0_fit = True\n",
    "mset.prepare_fparam_map ()"
   ]
  },
  {
   "cell_type": "code",
   "execution_count": 7,
   "metadata": {},
   "outputs": [],
   "source": [
    "ncount.set_binned (False)"
   ]
  },
  {
   "cell_type": "code",
   "execution_count": 8,
   "metadata": {},
   "outputs": [],
   "source": [
    "dset = ncm.Dataset.new ()\n",
    "dset.append_data (ncount)"
   ]
  },
  {
   "cell_type": "code",
   "execution_count": 9,
   "metadata": {},
   "outputs": [],
   "source": [
    "lh = Ncm.Likelihood (dataset = dset)\n",
    "fit = Ncm.Fit.new (Ncm.FitType.NLOPT, \"ln-neldermead\", lh, mset, Ncm.FitGradType.NUMDIFF_FORWARD)"
   ]
  },
  {
   "cell_type": "code",
   "execution_count": null,
   "metadata": {},
   "outputs": [
    {
     "name": "stdout",
     "output_type": "stream",
     "text": [
      "#----------------------------------------------------------------------------------\n",
      "# NcmFitMC: Skipping 500 realizations, will start at 501-th realization.\n",
      "# NcmFitMC: Largest relative error 1.000000e-03 not attained: 5.377287e-03\n",
      "# NcmFitMC: Running more 3490 runs...\n",
      "#----------------------------------------------------------------------------------\n",
      "# NcmFitMC: Calculating [003490] Monte Carlo fits [from-model]\n",
      "# Task:NcmFitMC, started at: Thu Apr 07 2022, 09:17:19\n",
      "# NcmMSetCatalog: Current mean:  -3082         0.25764     -1.0091       3.2093     \n",
      "# NcmMSetCatalog: Current msd:    5.1367       0.0013845    0.0048969    0.006869   \n",
      "# NcmMSetCatalog: Current sd:     114.98       0.030989     0.10961      0.15375    \n",
      "# NcmMSetCatalog: Current var:    13219        0.00096032   0.012014     0.023639   \n",
      "# NcmMSetCatalog: Current tau:    1            1            1            1          \n",
      "# Task:NcmFitMC, completed: 1 of 3490, elapsed time: 00:03:03.7573\n",
      "# Task:NcmFitMC, mean time: 00:03:03.6815 +/- 00:00:   -nan\n",
      "# Task:NcmFitMC, time left: 07 days, 10:01:04.8861 +/- 00:00:   -nan\n",
      "# Task:NcmFitMC, current time:        Thu Apr 07 2022, 09:20:23\n",
      "# Task:NcmFitMC, estimated to end at: Thu Apr 14 2022, 19:21:28 +/- 00:00:   -nan\n",
      "# NcmMSetCatalog: Current mean:  -3082.3       0.25747     -1.0093       3.2101     \n",
      "# NcmMSetCatalog: Current msd:    5.1089       0.0013789    0.0048612    0.0068441  \n",
      "# NcmMSetCatalog: Current sd:     114.81       0.030988     0.10924      0.1538     \n",
      "# NcmMSetCatalog: Current var:    13181        0.00096025   0.011934     0.023655   \n",
      "# NcmMSetCatalog: Current tau:    1            1            1            1          \n",
      "# Task:NcmFitMC, completed: 5 of 3490, elapsed time: 00:04:44.3503\n",
      "# Task:NcmFitMC, mean time: 00:00:56.8499 +/- 00:00:33.2835\n",
      "# Task:NcmFitMC, time left: 02 days, 07:02:01.9273 +/- 1 day, 08:13:13.1222\n",
      "# Task:NcmFitMC, current time:        Thu Apr 07 2022, 09:22:04\n",
      "# Task:NcmFitMC, estimated to end at: Sat Apr 09 2022, 16:24:06 +/- 1 day, 08:13:13.1222\n",
      "# NcmMSetCatalog: Current mean:  -3083         0.25746     -1.0101       3.2094     \n",
      "# NcmMSetCatalog: Current msd:    5.0891       0.0013717    0.0048974    0.0068193  \n",
      "# NcmMSetCatalog: Current sd:     114.82       0.030946     0.11049      0.15385    \n",
      "# NcmMSetCatalog: Current var:    13183        0.00095767   0.012208     0.02367    \n",
      "# NcmMSetCatalog: Current tau:    1            1            1            1          \n",
      "# Task:NcmFitMC, completed: 9 of 3490, elapsed time: 00:06:29.8252\n",
      "# Task:NcmFitMC, mean time: 00:00:43.3050 +/- 00:00:21.2601\n",
      "# Task:NcmFitMC, time left: 1 day, 17:52:24.5824 +/- 20:33:26.4242\n",
      "# Task:NcmFitMC, current time:        Thu Apr 07 2022, 09:23:49\n",
      "# Task:NcmFitMC, estimated to end at: Sat Apr 09 2022, 03:16:14 +/- 20:33:26.4242\n",
      "# NcmMSetCatalog: Current mean:  -3083         0.25745     -1.0098       3.2098     \n",
      "# NcmMSetCatalog: Current msd:    5.0502       0.0013654    0.0048651    0.0067877  \n",
      "# NcmMSetCatalog: Current sd:     114.38       0.030926     0.11019      0.15374    \n",
      "# NcmMSetCatalog: Current var:    13084        0.00095643   0.012142     0.023636   \n",
      "# NcmMSetCatalog: Current tau:    1            1            1            1          \n",
      "# Task:NcmFitMC, completed: 13 of 3490, elapsed time: 00:08:17.2677\n",
      "# Task:NcmFitMC, mean time: 00:00:38.2452 +/- 00:00:14.8984\n",
      "# Task:NcmFitMC, time left: 1 day, 12:56:18.5224 +/- 14:23:21.6619\n",
      "# Task:NcmFitMC, current time:        Thu Apr 07 2022, 09:25:37\n",
      "# Task:NcmFitMC, estimated to end at: Fri Apr 08 2022, 22:21:55 +/- 14:23:21.6619\n"
     ]
    }
   ],
   "source": [
    "fitmc = Ncm.FitMC.new (fit, Ncm.FitMCResampleType.FROM_MODEL, Ncm.FitRunMsgs.SIMPLE)\n",
    "fitmc.set_nthreads (3)\n",
    "\n",
    "fitmc.set_data_file (\"ncount_ascaso_mc_unbinned.fits\")\n",
    "\n",
    "fitmc.start_run ()\n",
    "fitmc.run_lre (500, 1.0e-3)\n",
    "fitmc.end_run ()\n"
   ]
  },
  {
   "cell_type": "code",
   "execution_count": null,
   "metadata": {},
   "outputs": [],
   "source": [
    "ntests = 100.0\n",
    "mcat = fitmc.mcat\n",
    "\n",
    "mcat.log_current_chain_stats ()\n",
    "mcat.calc_max_ess_time (ntests, Ncm.FitRunMsgs.FULL);\n",
    "mcat.calc_heidel_diag (ntests, 0.0, Ncm.FitRunMsgs.FULL);\n",
    "\n",
    "mset.pretty_log ()\n",
    "mcat.log_full_covar ()\n",
    "mcat.log_current_stats ()\n",
    "\n",
    "be, post_lnnorm_sd = mcat.get_post_lnnorm ()\n",
    "lnevol, glnvol = mcat.get_post_lnvol (0.6827)\n",
    "\n",
    "Ncm.cfg_msg_sepa ()\n",
    "print (\"# Bayesian evidence:                                 % 22.15g +/- % 22.15g\" % (be, post_lnnorm_sd))\n",
    "print (\"# 1 sigma posterior volume:                          % 22.15g\" % lnevol)\n",
    "print (\"# 1 sigma posterior volume (Gaussian approximation): % 22.15g\" % glnvol)"
   ]
  },
  {
   "cell_type": "code",
   "execution_count": null,
   "metadata": {},
   "outputs": [],
   "source": []
  }
 ],
 "metadata": {
  "interpreter": {
   "hash": "916dbcbb3f70747c44a77c7bcd40155683ae19c65e1c03b4aa3499c5328201f1"
  },
  "kernelspec": {
   "display_name": "Python 3 (ipykernel)",
   "language": "python",
   "name": "python3"
  },
  "language_info": {
   "codemirror_mode": {
    "name": "ipython",
    "version": 3
   },
   "file_extension": ".py",
   "mimetype": "text/x-python",
   "name": "python",
   "nbconvert_exporter": "python",
   "pygments_lexer": "ipython3",
   "version": "3.10.4"
  }
 },
 "nbformat": 4,
 "nbformat_minor": 2
}
