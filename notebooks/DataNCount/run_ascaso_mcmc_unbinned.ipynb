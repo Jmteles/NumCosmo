{
 "cells": [
  {
   "cell_type": "code",
   "execution_count": 1,
   "metadata": {},
   "outputs": [],
   "source": [
    "  #!/usr/bin/env python\n",
    "\n",
    "try:\n",
    "    import gi\n",
    "    gi.require_version('NumCosmo', '1.0')\n",
    "    gi.require_version('NumCosmoMath', '1.0')\n",
    "except:\n",
    "    pass\n",
    "\n",
    "import math\n",
    "import matplotlib.pyplot as plt\n",
    "from gi.repository import GObject\n",
    "from gi.repository import NumCosmo as nc\n",
    "from gi.repository import NumCosmoMath as ncm\n",
    "import numpy as np\n",
    "from astropy.io import fits\n",
    "from astropy.table import Table\n",
    "import sys\n",
    "sys.path.insert(0,'../../scripts')\n",
    "\n",
    "import pyccl as ccl\n",
    "\n",
    "from nc_ccl import create_nc_obj, ccl_cosmo_set_high_prec\n",
    "\n",
    "ncm.cfg_init()\n",
    "ncm.cfg_set_log_handler (lambda msg: sys.stdout.write (msg) and sys.stdout.flush ())"
   ]
  },
  {
   "cell_type": "markdown",
   "metadata": {},
   "source": [
    "initialize the `Cosmological models`"
   ]
  },
  {
   "cell_type": "code",
   "execution_count": 2,
   "metadata": {},
   "outputs": [],
   "source": [
    "#CCL cosmology\n",
    "cosmo_ccl = ccl.Cosmology(Omega_c = 0.30711 - 0.048254, Omega_b = 0.048254, h = 0.677, sigma8 = 0.8822714165197718, n_s=0.96, Omega_k = 0, transfer_function='eisenstein_hu')\n",
    "#ccl_cosmo_set_high_prec (cosmo_ccl)\n",
    "\n",
    "cosmo_numcosmo, dist, ps_lin, ps_nln, hmfunc = create_nc_obj (cosmo_ccl)\n",
    "\n",
    "psf = hmfunc.peek_psf ()"
   ]
  },
  {
   "cell_type": "markdown",
   "metadata": {},
   "source": [
    "# Define proxy modelling\n",
    "Use a mass proxy, define the probability for observing a proxy given a mass and redhsift"
   ]
  },
  {
   "cell_type": "markdown",
   "metadata": {},
   "source": [
    "$$\n",
    "P(\\log\\lambda|M,z) = N(\\mu(M,z), \\sigma^2(M,z))\n",
    "$$\n",
    "the mean is\n",
    "$$\n",
    "\\mu(M,z) = \\mu_0 + a_\\mu^M\\log_{10}\\frac{M}{M_0} + a_\\mu^z\\log_{10}\\frac{1+z}{1+z_0} \n",
    "$$\n",
    "variance is\n",
    "$$\n",
    "\\sigma(M,z) = \\sigma_0 + a_\\sigma^M\\log_{10}\\frac{M}{M_0} + a_\\sigma ^z\\log_{10}\\frac{1+z}{1+z_0} \n",
    "$$"
   ]
  },
  {
   "cell_type": "code",
   "execution_count": 3,
   "metadata": {},
   "outputs": [],
   "source": [
    "#CosmoSim_proxy model\n",
    "#M_0, z_0\n",
    "theta_pivot = [3e14/0.71, 0.6]\n",
    "#\\mu_0, a_\\mu^z, a_\\mu^M\n",
    "theta_mu = [3.19, -0.7, 2]\n",
    "#\\sigma_0, a_\\sigma^z, a_\\sigma^M\n",
    "theta_sigma = [0.33, 0.,-0.08]\n",
    "#Richness object\n",
    "\n",
    "area = (0.25)*4*np.pi / 100.0\n",
    "lnRl = 1.0\n",
    "lnRu = 2.0\n",
    "zl = 0.25\n",
    "zu = 1.0\n",
    "\n",
    "#Numcosmo_proxy model\n",
    "cluster_z = nc.ClusterRedshift.new_from_name(\"NcClusterRedshiftNodist{'z-min': <%20.15e>, 'z-max':<%20.15e>}\" % (zl, zu))\n",
    "cluster_m = nc.ClusterMass.new_from_name(\"NcClusterMassAscaso{'M0':<%20.15e>,'z0':<%20.15e>,'lnRichness-min':<%20.15e>, 'lnRichness-max':<%20.15e>}\" % (3e14/(0.71),0.6, lnRl, lnRu))\n",
    "cluster_m.param_set_by_name('mup0', 3.19)\n",
    "cluster_m.param_set_by_name('mup1', 2/np.log(10))\n",
    "cluster_m.param_set_by_name('mup2', -0.7/np.log(10))\n",
    "cluster_m.param_set_by_name('sigmap0', 0.33)\n",
    "cluster_m.param_set_by_name('sigmap1', -0.08/np.log(10))\n",
    "cluster_m.param_set_by_name('sigmap2', 0/np.log(10))"
   ]
  },
  {
   "cell_type": "markdown",
   "metadata": {},
   "source": [
    "initialize the `ClusterAbundance` object"
   ]
  },
  {
   "cell_type": "code",
   "execution_count": 4,
   "metadata": {},
   "outputs": [],
   "source": [
    "#Numcosmo Cluster Abundance\n",
    "\n",
    "#First we need to define the multiplicity function here we will use the tinker\n",
    "mulf = nc.MultiplicityFuncTinker.new()\n",
    "mulf.set_linear_interp (True)\n",
    "mulf.set_mdef(nc.MultiplicityFuncMassDef.CRITICAL)\n",
    "mulf.set_Delta(200)\n",
    "#Second we need to construct a filtered power spectrum \n",
    "\n",
    "hmf = nc.HaloMassFunction.new(dist,psf,mulf)\n",
    "hmf.set_area(area)\n",
    "\n",
    "ca = nc.ClusterAbundance.new(hmf,None)\n",
    "mset = ncm.MSet.new_array([cosmo_numcosmo,cluster_m,cluster_z])"
   ]
  },
  {
   "cell_type": "code",
   "execution_count": 5,
   "metadata": {},
   "outputs": [],
   "source": [
    "ncount = Nc.DataClusterNCount.new (ca, \"NcClusterRedshiftNodist\", \"NcClusterMassAscaso\")\n",
    "ncount.catalog_load (\"ncount_ascaso.fits\")"
   ]
  },
  {
   "cell_type": "code",
   "execution_count": 6,
   "metadata": {},
   "outputs": [],
   "source": [
    "cosmo_numcosmo.props.Omegac_fit = True\n",
    "cosmo_numcosmo.props.w0_fit = True\n",
    "cluster_m.props.mup0_fit = True\n",
    "mset.prepare_fparam_map ()"
   ]
  },
  {
   "cell_type": "code",
   "execution_count": 7,
   "metadata": {},
   "outputs": [],
   "source": [
    "ncount.set_binned (False)"
   ]
  },
  {
   "cell_type": "code",
   "execution_count": 8,
   "metadata": {},
   "outputs": [],
   "source": [
    "dset = ncm.Dataset.new ()\n",
    "dset.append_data (ncount)"
   ]
  },
  {
   "cell_type": "code",
   "execution_count": 9,
   "metadata": {},
   "outputs": [],
   "source": [
    "lh = Ncm.Likelihood (dataset = dset)\n",
    "fit = Ncm.Fit.new (Ncm.FitType.NLOPT, \"ln-neldermead\", lh, mset, Ncm.FitGradType.NUMDIFF_FORWARD)"
   ]
  },
  {
   "cell_type": "code",
   "execution_count": null,
   "metadata": {},
   "outputs": [
    {
     "name": "stdout",
     "output_type": "stream",
     "text": [
      "# NcmThreadPool:Unused:      0\n",
      "# NcmThreadPool:Max Unused:  2\n",
      "# NcmThreadPool:Running:     0\n",
      "# NcmThreadPool:Unprocessed: 0\n",
      "# NcmThreadPool:Unused:      8\n",
      "None\n",
      "#----------------------------------------------------------------------------------\n",
      "# NcmFitESMCMC: Starting Ensamble Sampler Markov Chain Monte Carlo.\n",
      "#   Number of walkers: 0300.\n",
      "#   Number of threads: 0003.\n",
      "#   Using MPI:         no - use MPI enabled but no slaves available.\n",
      "# NcmMSetCatalog: Current mean:  -2720.5       0.2583      -1.0001       3.1925     \n",
      "# NcmMSetCatalog: Current msd:    27.236       0.00055027   0.00057603   0.0054396  \n",
      "# NcmMSetCatalog: Current sd:     471.73       0.0095309    0.0099771    0.094217   \n",
      "# NcmMSetCatalog: Current var:    2.2253e+05   9.0839e-05   9.9543e-05   0.0088768  \n",
      "# NcmMSetCatalog: Current tau:    1            1            1            1          \n",
      "# NcmMSetCatalog: Current skfac: -nan         -nan         -nan         -nan        \n",
      "# NcmMSetCatalog: Maximal Shrink factor = 1e+10                 \n",
      "#----------------------------------------------------------------------------------\n",
      "# NcmMSetCatalog: Computing the constant break point for parameter `0', sample size `1':\n",
      "# NcmMSetCatalog: Constant break point at `0':\n",
      "# NcmFitESMCMC:last ensemble variance of -2ln(L):        222978.96424256 (2n = 6), min(-2ln(L)) =      -3071.35637431557.\n",
      "# Task:NcmFitESMCMC, completed: 300 of 300, elapsed time: 00:01:01.5055\n",
      "# Task:NcmFitESMCMC, mean time: 00:00:00.2048 +/- 00:00:00.2048\n",
      "# Task:NcmFitESMCMC, time left: 00:00:00.0000 +/- 00:00:00.0000\n",
      "# Task:NcmFitESMCMC, current time:        Wed Apr 06 2022, 00:18:41\n",
      "# Task:NcmFitESMCMC, estimated to end at: Wed Apr 06 2022, 00:18:41 +/- 00:00:00.0000\n",
      "# NcmFitESMCMC: Running first 49 pre-runs...\n",
      "#----------------------------------------------------------------------------------\n",
      "# NcmFitESMCMC: Calculating [000049] Ensemble Sampler Markov Chain Monte Carlo runs [APES-Move:VKDE:Cauchy]\n",
      "# Task:NcmFitESMCMC, started at: Wed Apr 06 2022, 00:17:40\n",
      "# NcmMSetCatalog: Current mean:  -2813.9       0.25982     -0.99851      3.1903     \n",
      "# NcmMSetCatalog: Current msd:    16.39        0.00072805   0.0011004    0.0049499  \n",
      "# NcmMSetCatalog: Current sd:     401.48       0.017833     0.026954     0.12125    \n",
      "# NcmMSetCatalog: Current var:    1.6118e+05   0.00031803   0.00072653   0.014701   \n",
      "# NcmMSetCatalog: Current tau:    1            1            1            1          \n",
      "# NcmMSetCatalog: Current skfac:  1.2701       1.066        1.0316       1.1729     \n",
      "# NcmMSetCatalog: Maximal Shrink factor = 1.29584               \n",
      "#----------------------------------------------------------------------------------\n",
      "# NcmMSetCatalog: Computing the constant break point for parameter `0', sample size `2':\n",
      "# NcmMSetCatalog: Constant break point at `0':\n",
      "# NcmFitESMCMC:acceptance ratio 45.3333% (last update 45.3333%), offboard ratio  0.0000% (last update  0.0000%).\n",
      "# NcmFitESMCMC:last ensemble variance of -2ln(L):        82826.738014175 (2n = 6), min(-2ln(L)) =      -3071.41647679328.\n",
      "# Task:NcmFitESMCMC, completed: 600 of 15000, elapsed time: 00:02:03.4487\n",
      "# Task:NcmFitESMCMC, mean time: 00:00:00.2056 +/- 00:00:00.1453\n",
      "# Task:NcmFitESMCMC, time left: 00:49:21.0516 +/- 00:34:52.0279\n",
      "# Task:NcmFitESMCMC, current time:        Wed Apr 06 2022, 00:19:43\n",
      "# Task:NcmFitESMCMC, estimated to end at: Wed Apr 06 2022, 01:09:04 +/- 00:34:52.0279\n",
      "# NcmMSetCatalog: Current mean:  -2871.8       0.26141     -0.99654      3.1852     \n",
      "# NcmMSetCatalog: Current msd:    11.884       0.00071545   0.0010925    0.0044418  \n",
      "# NcmMSetCatalog: Current sd:     356.51       0.021463     0.032776     0.13325    \n",
      "# NcmMSetCatalog: Current var:    1.271e+05    0.00046068   0.0010743    0.017756   \n",
      "# NcmMSetCatalog: Current tau:    1            1            1            1          \n",
      "# NcmMSetCatalog: Current skfac:  1.2186       1.1181       1.1534       1.1642     \n",
      "# NcmMSetCatalog: Maximal Shrink factor = 1.26395               \n",
      "#----------------------------------------------------------------------------------\n",
      "# NcmMSetCatalog: Computing the constant break point for parameter `0', sample size `3':\n",
      "# NcmMSetCatalog: Constant break point at `0':\n",
      "# NcmFitESMCMC:acceptance ratio 42.3333% (last update 39.3333%), offboard ratio  0.0000% (last update  0.0000%).\n",
      "# NcmFitESMCMC:last ensemble variance of -2ln(L):       39100.0149017218 (2n = 6), min(-2ln(L)) =      -3071.41647679328.\n",
      "# Task:NcmFitESMCMC, completed: 900 of 15000, elapsed time: 00:03:06.2459\n",
      "# Task:NcmFitESMCMC, mean time: 00:00:00.2069 +/- 00:00:00.1193\n",
      "# Task:NcmFitESMCMC, time left: 00:48:36.8376 +/- 00:28:02.2174\n",
      "# Task:NcmFitESMCMC, current time:        Wed Apr 06 2022, 00:20:46\n",
      "# Task:NcmFitESMCMC, estimated to end at: Wed Apr 06 2022, 01:09:23 +/- 00:28:02.2174\n",
      "# NcmMSetCatalog: Current mean:  -2911.4       0.26322     -0.99331      3.1795     \n",
      "# NcmMSetCatalog: Current msd:    9.2791       0.00069965   0.0012988    0.0039752  \n",
      "# NcmMSetCatalog: Current sd:     321.44       0.024237     0.04499      0.1377     \n",
      "# NcmMSetCatalog: Current var:    1.0332e+05   0.00058741   0.0020241    0.018962   \n",
      "# NcmMSetCatalog: Current tau:    1            1            1            1          \n",
      "# NcmMSetCatalog: Current skfac:  1.1625       1.1455       1.1393       1.2122     \n",
      "# NcmMSetCatalog: Maximal Shrink factor = 1.24044               \n",
      "#----------------------------------------------------------------------------------\n",
      "# NcmMSetCatalog: Computing the constant break point for parameter `0', sample size `4':\n",
      "# NcmMSetCatalog: Constant break point at `0':\n",
      "# NcmFitESMCMC:acceptance ratio 39.1111% (last update 32.6667%), offboard ratio  0.0000% (last update  0.0000%).\n",
      "# NcmFitESMCMC:last ensemble variance of -2ln(L):       13281.0111308041 (2n = 6), min(-2ln(L)) =      -3071.44385087831.\n",
      "# Task:NcmFitESMCMC, completed: 1200 of 15000, elapsed time: 00:04:12.3249\n",
      "# Task:NcmFitESMCMC, mean time: 00:00:00.2101 +/- 00:00:00.1050\n",
      "# Task:NcmFitESMCMC, time left: 00:48:19.5495 +/- 00:24:08.5096\n",
      "# Task:NcmFitESMCMC, current time:        Wed Apr 06 2022, 00:21:52\n",
      "# Task:NcmFitESMCMC, estimated to end at: Wed Apr 06 2022, 01:10:12 +/- 00:24:08.5096\n",
      "# NcmMSetCatalog: Current mean:  -2938.9       0.2652      -0.98758      3.1757     \n",
      "# NcmMSetCatalog: Current msd:    7.6064       0.00069936   0.0015608    0.0035954  \n",
      "# NcmMSetCatalog: Current sd:     294.6        0.027086     0.06045      0.13925    \n",
      "# NcmMSetCatalog: Current var:    86786        0.00073367   0.0036542    0.01939    \n",
      "# NcmMSetCatalog: Current tau:    1            1            1            1          \n",
      "# NcmMSetCatalog: Current skfac:  1.126        1.1587       1.1221       1.2247     \n",
      "# NcmMSetCatalog: Maximal Shrink factor = 1.2633                \n",
      "#----------------------------------------------------------------------------------\n",
      "# NcmMSetCatalog: Computing the constant break point for parameter `0', sample size `5':\n",
      "# NcmMSetCatalog: Constant break point at `0':\n",
      "# NcmFitESMCMC:acceptance ratio 35.6667% (last update 25.3333%), offboard ratio  0.0000% (last update  0.0000%).\n",
      "# NcmFitESMCMC:last ensemble variance of -2ln(L):       5563.40282721438 (2n = 6), min(-2ln(L)) =       -3071.7437072369.\n",
      "# Task:NcmFitESMCMC, completed: 1500 of 15000, elapsed time: 00:05:15.3846\n",
      "# Task:NcmFitESMCMC, mean time: 00:00:00.2102 +/- 00:00:00.0939\n",
      "# Task:NcmFitESMCMC, time left: 00:47:17.8680 +/- 00:21:07.8220\n",
      "# Task:NcmFitESMCMC, current time:        Wed Apr 06 2022, 00:22:55\n",
      "# Task:NcmFitESMCMC, estimated to end at: Wed Apr 06 2022, 01:10:13 +/- 00:21:07.8220\n"
     ]
    }
   ],
   "source": [
    "print (Ncm.func_eval_log_pool_stats ())\n",
    "\n",
    "init_sampler = Ncm.MSetTransKernGauss.new (0)\n",
    "init_sampler.set_mset (mset)\n",
    "init_sampler.set_prior_from_mset ()\n",
    "init_sampler.set_cov_from_rescale (1.0)\n",
    "\n",
    "nwalkers = 300\n",
    "\n",
    "walker = Ncm.FitESMCMCWalkerAPES.new (nwalkers, mset.fparams_len ())\n",
    "\n",
    "esmcmc = Ncm.FitESMCMC.new (fit, nwalkers, init_sampler, walker, Ncm.FitRunMsgs.SIMPLE)\n",
    "esmcmc.set_nthreads (3)\n",
    "\n",
    "esmcmc.set_data_file (\"ncount_ascaso_mcmc_unbinned.fits\")\n",
    "\n",
    "esmcmc.start_run ()\n",
    "esmcmc.run_lre (50, 1.0e-3)\n",
    "esmcmc.end_run ()\n",
    "\n",
    "esmcmc.mean_covar ()\n",
    "fit.log_covar ()\n"
   ]
  }
 ],
 "metadata": {
  "interpreter": {
   "hash": "916dbcbb3f70747c44a77c7bcd40155683ae19c65e1c03b4aa3499c5328201f1"
  },
  "kernelspec": {
   "display_name": "Python 3 (ipykernel)",
   "language": "python",
   "name": "python3"
  },
  "language_info": {
   "codemirror_mode": {
    "name": "ipython",
    "version": 3
   },
   "file_extension": ".py",
   "mimetype": "text/x-python",
   "name": "python",
   "nbconvert_exporter": "python",
   "pygments_lexer": "ipython3",
   "version": "3.10.4"
  }
 },
 "nbformat": 4,
 "nbformat_minor": 2
}
