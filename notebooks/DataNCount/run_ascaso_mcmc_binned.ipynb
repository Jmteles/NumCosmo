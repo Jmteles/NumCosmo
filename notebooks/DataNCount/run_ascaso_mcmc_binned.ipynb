{
 "cells": [
  {
   "cell_type": "code",
   "execution_count": 1,
   "metadata": {},
   "outputs": [],
   "source": [
    "  #!/usr/bin/env python\n",
    "\n",
    "try:\n",
    "    import gi\n",
    "    gi.require_version('NumCosmo', '1.0')\n",
    "    gi.require_version('NumCosmoMath', '1.0')\n",
    "except:\n",
    "    pass\n",
    "\n",
    "import math\n",
    "import matplotlib.pyplot as plt\n",
    "from gi.repository import GObject\n",
    "from gi.repository import NumCosmo as nc\n",
    "from gi.repository import NumCosmoMath as ncm\n",
    "import numpy as np\n",
    "from astropy.io import fits\n",
    "from astropy.table import Table\n",
    "import sys\n",
    "sys.path.insert(0,'../../scripts')\n",
    "\n",
    "import pyccl as ccl\n",
    "\n",
    "from nc_ccl import create_nc_obj, ccl_cosmo_set_high_prec\n",
    "\n",
    "ncm.cfg_init()\n",
    "ncm.cfg_set_log_handler (lambda msg: sys.stdout.write (msg) and sys.stdout.flush ())"
   ]
  },
  {
   "cell_type": "markdown",
   "metadata": {},
   "source": [
    "initialize the `Cosmological models`"
   ]
  },
  {
   "cell_type": "code",
   "execution_count": 2,
   "metadata": {},
   "outputs": [],
   "source": [
    "#CCL cosmology\n",
    "cosmo_ccl = ccl.Cosmology(Omega_c = 0.30711 - 0.048254, Omega_b = 0.048254, h = 0.677, sigma8 = 0.8822714165197718, n_s=0.96, Omega_k = 0, transfer_function='eisenstein_hu')\n",
    "#ccl_cosmo_set_high_prec (cosmo_ccl)\n",
    "\n",
    "cosmo_numcosmo, dist, ps_lin, ps_nln, hmfunc = create_nc_obj (cosmo_ccl)\n",
    "\n",
    "psf = hmfunc.peek_psf ()"
   ]
  },
  {
   "cell_type": "markdown",
   "metadata": {},
   "source": [
    "# Define proxy modelling\n",
    "Use a mass proxy, define the probability for observing a proxy given a mass and redhsift"
   ]
  },
  {
   "cell_type": "markdown",
   "metadata": {},
   "source": [
    "$$\n",
    "P(\\log\\lambda|M,z) = N(\\mu(M,z), \\sigma^2(M,z))\n",
    "$$\n",
    "the mean is\n",
    "$$\n",
    "\\mu(M,z) = \\mu_0 + a_\\mu^M\\log_{10}\\frac{M}{M_0} + a_\\mu^z\\log_{10}\\frac{1+z}{1+z_0} \n",
    "$$\n",
    "variance is\n",
    "$$\n",
    "\\sigma(M,z) = \\sigma_0 + a_\\sigma^M\\log_{10}\\frac{M}{M_0} + a_\\sigma ^z\\log_{10}\\frac{1+z}{1+z_0} \n",
    "$$"
   ]
  },
  {
   "cell_type": "code",
   "execution_count": 3,
   "metadata": {},
   "outputs": [],
   "source": [
    "#CosmoSim_proxy model\n",
    "#M_0, z_0\n",
    "theta_pivot = [3e14/0.71, 0.6]\n",
    "#\\mu_0, a_\\mu^z, a_\\mu^M\n",
    "theta_mu = [3.19, -0.7, 2]\n",
    "#\\sigma_0, a_\\sigma^z, a_\\sigma^M\n",
    "theta_sigma = [0.33, 0.,-0.08]\n",
    "#Richness object\n",
    "\n",
    "area = (0.25)*4*np.pi / 100.0\n",
    "lnRl = 1.0\n",
    "lnRu = 2.0\n",
    "zl = 0.25\n",
    "zu = 1.0\n",
    "\n",
    "#Numcosmo_proxy model\n",
    "cluster_z = nc.ClusterRedshift.new_from_name(\"NcClusterRedshiftNodist{'z-min': <%20.15e>, 'z-max':<%20.15e>}\" % (zl, zu))\n",
    "cluster_m = nc.ClusterMass.new_from_name(\"NcClusterMassAscaso{'M0':<%20.15e>,'z0':<%20.15e>,'lnRichness-min':<%20.15e>, 'lnRichness-max':<%20.15e>}\" % (3e14/(0.71),0.6, lnRl, lnRu))\n",
    "cluster_m.param_set_by_name('mup0', 3.19)\n",
    "cluster_m.param_set_by_name('mup1', 2/np.log(10))\n",
    "cluster_m.param_set_by_name('mup2', -0.7/np.log(10))\n",
    "cluster_m.param_set_by_name('sigmap0', 0.33)\n",
    "cluster_m.param_set_by_name('sigmap1', -0.08/np.log(10))\n",
    "cluster_m.param_set_by_name('sigmap2', 0/np.log(10))"
   ]
  },
  {
   "cell_type": "markdown",
   "metadata": {},
   "source": [
    "initialize the `ClusterAbundance` object"
   ]
  },
  {
   "cell_type": "code",
   "execution_count": 4,
   "metadata": {},
   "outputs": [],
   "source": [
    "#Numcosmo Cluster Abundance\n",
    "\n",
    "#First we need to define the multiplicity function here we will use the tinker\n",
    "mulf = nc.MultiplicityFuncTinker.new()\n",
    "mulf.set_linear_interp (True)\n",
    "mulf.set_mdef(nc.MultiplicityFuncMassDef.CRITICAL)\n",
    "mulf.set_Delta(200)\n",
    "#Second we need to construct a filtered power spectrum \n",
    "\n",
    "hmf = nc.HaloMassFunction.new(dist,psf,mulf)\n",
    "hmf.set_area(area)\n",
    "\n",
    "ca = nc.ClusterAbundance.new(hmf,None)\n",
    "mset = ncm.MSet.new_array([cosmo_numcosmo,cluster_m,cluster_z])"
   ]
  },
  {
   "cell_type": "code",
   "execution_count": 5,
   "metadata": {},
   "outputs": [],
   "source": [
    "ncount = Nc.DataClusterNCount.new (ca, \"NcClusterRedshiftNodist\", \"NcClusterMassAscaso\")\n",
    "ncount.catalog_load (\"ncount_ascaso.fits\")"
   ]
  },
  {
   "cell_type": "code",
   "execution_count": 6,
   "metadata": {},
   "outputs": [],
   "source": [
    "cosmo_numcosmo.props.Omegac_fit = True\n",
    "cosmo_numcosmo.props.w0_fit = True\n",
    "cluster_m.props.mup0_fit = True\n",
    "mset.prepare_fparam_map ()"
   ]
  },
  {
   "cell_type": "code",
   "execution_count": 7,
   "metadata": {},
   "outputs": [],
   "source": [
    "ncount.set_binned (True)"
   ]
  },
  {
   "cell_type": "code",
   "execution_count": 8,
   "metadata": {},
   "outputs": [],
   "source": [
    "dset = ncm.Dataset.new ()\n",
    "dset.append_data (ncount)"
   ]
  },
  {
   "cell_type": "code",
   "execution_count": 9,
   "metadata": {},
   "outputs": [],
   "source": [
    "lh = Ncm.Likelihood (dataset = dset)\n",
    "fit = Ncm.Fit.new (Ncm.FitType.NLOPT, \"ln-neldermead\", lh, mset, Ncm.FitGradType.NUMDIFF_FORWARD)"
   ]
  },
  {
   "cell_type": "code",
   "execution_count": null,
   "metadata": {},
   "outputs": [
    {
     "name": "stdout",
     "output_type": "stream",
     "text": [
      "# NcmThreadPool:Unused:      0\n",
      "# NcmThreadPool:Max Unused:  2\n",
      "# NcmThreadPool:Running:     0\n",
      "# NcmThreadPool:Unprocessed: 0\n",
      "# NcmThreadPool:Unused:      8\n",
      "None\n",
      "#----------------------------------------------------------------------------------\n",
      "# NcmFitESMCMC: Starting Ensamble Sampler Markov Chain Monte Carlo.\n",
      "#   Number of walkers: 0300.\n",
      "#   Number of threads: 0003.\n",
      "#   Using MPI:         no - use MPI enabled but no slaves available.\n",
      "# NcmFitESMCMC: No RNG was defined, using algorithm: `mt19937' and seed: 2971000618.\n",
      "# NcmMSetCatalog: Current mean:   3202.1       0.25813     -1.0005       3.1958     \n",
      "# NcmMSetCatalog: Current msd:    27.294       0.00056455   0.00055837   0.0054788  \n",
      "# NcmMSetCatalog: Current sd:     472.74       0.0097782    0.0096712    0.094895   \n",
      "# NcmMSetCatalog: Current var:    2.2348e+05   9.5614e-05   9.3532e-05   0.0090051  \n",
      "# NcmMSetCatalog: Current tau:    1            1            1            1          \n",
      "# NcmMSetCatalog: Current skfac: -nan         -nan         -nan         -nan        \n",
      "# NcmMSetCatalog: Maximal Shrink factor = 1e+10                 \n",
      "#----------------------------------------------------------------------------------\n",
      "# NcmMSetCatalog: Computing the constant break point for parameter `0', sample size `1':\n",
      "# NcmMSetCatalog: Constant break point at `0':\n",
      "# NcmFitESMCMC:last ensemble variance of -2ln(L):        224206.59910717 (2n = 6), min(-2ln(L)) =       2734.88919768372.\n",
      "# Task:NcmFitESMCMC, completed: 300 of 300, elapsed time: 00:00:42.3309\n",
      "# Task:NcmFitESMCMC, mean time: 00:00:00.1409 +/- 00:00:00.1409\n",
      "# Task:NcmFitESMCMC, time left: 00:00:00.0000 +/- 00:00:00.0000\n",
      "# Task:NcmFitESMCMC, current time:        Wed Apr 06 2022, 00:18:21\n",
      "# Task:NcmFitESMCMC, estimated to end at: Wed Apr 06 2022, 00:18:21 +/- 00:00:00.0000\n",
      "# NcmFitESMCMC: Running first 49 pre-runs...\n",
      "#----------------------------------------------------------------------------------\n",
      "# NcmFitESMCMC: Calculating [000049] Ensemble Sampler Markov Chain Monte Carlo runs [APES-Move:VKDE:Cauchy]\n",
      "# Task:NcmFitESMCMC, started at: Wed Apr 06 2022, 00:17:39\n",
      "# NcmMSetCatalog: Current mean:   3056.6       0.27011     -0.98708      3.2047     \n",
      "# NcmMSetCatalog: Current msd:    12.97        0.0013584    0.0021497    0.0055337  \n",
      "# NcmMSetCatalog: Current sd:     389.09       0.040752     0.064491     0.16601    \n",
      "# NcmMSetCatalog: Current var:    1.5139e+05   0.0016607    0.0041591    0.02756    \n",
      "# NcmMSetCatalog: Current tau:    1            1            1            1          \n",
      "# NcmMSetCatalog: Current skfac:  1.302        1.0668       1.0202       1.2769     \n",
      "# NcmMSetCatalog: Maximal Shrink factor = 1.29979               \n",
      "#----------------------------------------------------------------------------------\n",
      "# NcmMSetCatalog: Computing the constant break point for parameter `0', sample size `3':\n",
      "# NcmMSetCatalog: Constant break point at `0':\n",
      "# NcmFitESMCMC:acceptance ratio 32.0000% (last update 37.6667%), offboard ratio  0.0000% (last update  0.0000%).\n",
      "# NcmFitESMCMC:last ensemble variance of -2ln(L):       61839.4524933122 (2n = 6), min(-2ln(L)) =       2734.88919768372.\n",
      "# Task:NcmFitESMCMC, completed: 900 of 15000, elapsed time: 00:02:04.1096\n",
      "# Task:NcmFitESMCMC, mean time: 00:00:00.1379 +/- 00:00:00.0795\n",
      "# Task:NcmFitESMCMC, time left: 00:32:23.7489 +/- 00:18:41.1047\n",
      "# Task:NcmFitESMCMC, current time:        Wed Apr 06 2022, 00:19:43\n",
      "# Task:NcmFitESMCMC, estimated to end at: Wed Apr 06 2022, 00:52:06 +/- 00:18:41.1047\n",
      "# NcmMSetCatalog: Current mean:   2971.8       0.2907      -0.95212      3.1931     \n",
      "# NcmMSetCatalog: Current msd:    8.7195       0.001912     0.004894     0.0059712  \n",
      "# NcmMSetCatalog: Current sd:     337.7        0.074052     0.18954      0.23126    \n",
      "# NcmMSetCatalog: Current var:    1.1404e+05   0.0054837    0.035927     0.053482   \n",
      "# NcmMSetCatalog: Current tau:    1            1            1            1          \n",
      "# NcmMSetCatalog: Current skfac:  1.1851       1.1513       1.1104       1.2744     \n",
      "# NcmMSetCatalog: Maximal Shrink factor = 1.29665               \n",
      "#----------------------------------------------------------------------------------\n",
      "# NcmMSetCatalog: Computing the constant break point for parameter `0', sample size `5':\n",
      "# NcmMSetCatalog: Constant break point at `0':\n",
      "# NcmFitESMCMC:acceptance ratio 24.8333% (last update  9.0000%), offboard ratio  0.0000% (last update  0.0000%).\n",
      "# NcmFitESMCMC:last ensemble variance of -2ln(L):       28664.8447422885 (2n = 6), min(-2ln(L)) =       2734.88590748883.\n",
      "# Task:NcmFitESMCMC, completed: 1500 of 15000, elapsed time: 00:03:28.6754\n",
      "# Task:NcmFitESMCMC, mean time: 00:00:00.1391 +/- 00:00:00.0621\n",
      "# Task:NcmFitESMCMC, time left: 00:31:17.2935 +/- 00:13:58.5354\n",
      "# Task:NcmFitESMCMC, current time:        Wed Apr 06 2022, 00:21:07\n",
      "# Task:NcmFitESMCMC, estimated to end at: Wed Apr 06 2022, 00:52:24 +/- 00:13:58.5354\n",
      "# NcmMSetCatalog: Current mean:   2931.4       0.30336     -0.92452      3.2045     \n",
      "# NcmMSetCatalog: Current msd:    6.6519       0.0019451    0.0058996    0.0064448  \n",
      "# NcmMSetCatalog: Current sd:     304.83       0.089137     0.27035      0.29534    \n",
      "# NcmMSetCatalog: Current var:    92920        0.0079455    0.073091     0.087225   \n",
      "# NcmMSetCatalog: Current tau:    1            1            1            1          \n",
      "# NcmMSetCatalog: Current skfac:  1.1854       1.282        1.2313       1.3027     \n",
      "# NcmMSetCatalog: Maximal Shrink factor = 1.37584               \n",
      "#----------------------------------------------------------------------------------\n",
      "# NcmMSetCatalog: Computing the constant break point for parameter `0', sample size `7':\n",
      "# NcmMSetCatalog: Constant break point at `0':\n",
      "# NcmFitESMCMC:acceptance ratio 18.3333% (last update  5.3333%), offboard ratio  0.0000% (last update  0.0000%).\n",
      "# NcmFitESMCMC:last ensemble variance of -2ln(L):       25612.3419375764 (2n = 6), min(-2ln(L)) =       2734.88590748883.\n",
      "# Task:NcmFitESMCMC, completed: 2100 of 15000, elapsed time: 00:04:55.6682\n",
      "# Task:NcmFitESMCMC, mean time: 00:00:00.1407 +/- 00:00:00.0531\n",
      "# Task:NcmFitESMCMC, time left: 00:30:15.5021 +/- 00:11:25.4109\n",
      "# Task:NcmFitESMCMC, current time:        Wed Apr 06 2022, 00:22:34\n",
      "# Task:NcmFitESMCMC, estimated to end at: Wed Apr 06 2022, 00:52:50 +/- 00:11:25.4109\n"
     ]
    }
   ],
   "source": [
    "print (Ncm.func_eval_log_pool_stats ())\n",
    "\n",
    "init_sampler = Ncm.MSetTransKernGauss.new (0)\n",
    "init_sampler.set_mset (mset)\n",
    "init_sampler.set_prior_from_mset ()\n",
    "init_sampler.set_cov_from_rescale (1.0)\n",
    "\n",
    "nwalkers = 300\n",
    "\n",
    "walker = Ncm.FitESMCMCWalkerAPES.new (nwalkers, mset.fparams_len ())\n",
    "\n",
    "esmcmc = Ncm.FitESMCMC.new (fit, nwalkers, init_sampler, walker, Ncm.FitRunMsgs.SIMPLE)\n",
    "esmcmc.set_nthreads (3)\n",
    "\n",
    "esmcmc.set_data_file (\"ncount_ascaso_mcmc_binned.fits\")\n",
    "\n",
    "esmcmc.start_run ()\n",
    "esmcmc.run_lre (50, 1.0e-3)\n",
    "esmcmc.end_run ()\n",
    "\n",
    "esmcmc.mean_covar ()\n",
    "fit.log_covar ()\n"
   ]
  }
 ],
 "metadata": {
  "interpreter": {
   "hash": "916dbcbb3f70747c44a77c7bcd40155683ae19c65e1c03b4aa3499c5328201f1"
  },
  "kernelspec": {
   "display_name": "Python 3 (ipykernel)",
   "language": "python",
   "name": "python3"
  },
  "language_info": {
   "codemirror_mode": {
    "name": "ipython",
    "version": 3
   },
   "file_extension": ".py",
   "mimetype": "text/x-python",
   "name": "python",
   "nbconvert_exporter": "python",
   "pygments_lexer": "ipython3",
   "version": "3.10.4"
  }
 },
 "nbformat": 4,
 "nbformat_minor": 2
}
